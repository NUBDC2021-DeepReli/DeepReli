{
  "cells": [
    {
      "cell_type": "code",
      "execution_count": null,
      "metadata": {
        "id": "lDWWVUDHWQe8"
      },
      "outputs": [],
      "source": [
        "import numpy as np # linear algebra\n",
        "import pandas as pd # data processing, CSV file I/O (e.g. pd.read_csv)\n",
        "\n",
        "from sklearn.feature_extraction.text import CountVectorizer\n",
        "from keras.preprocessing.text import Tokenizer\n",
        "from keras.preprocessing.sequence import pad_sequences\n",
        "from keras.models import Sequential\n",
        "from keras.layers import Dense, Embedding, LSTM, SpatialDropout1D, Dropout, BatchNormalization, Bidirectional, CuDNNLSTM\n",
        "from sklearn.model_selection import train_test_split\n",
        "from keras.utils.np_utils import to_categorical\n",
        "from tensorflow.keras.optimizers import Adam\n",
        "import nltk\n",
        "nltk.download('stopwords')\n",
        "nltk.download('punkt')\n",
        "from nltk.corpus import stopwords \n",
        "from nltk.tokenize import word_tokenize \n",
        "import re\n",
        "from google.colab import drive\n",
        "import tensorflow as tf\n",
        "pd.set_option('display.max_rows', 500)\n",
        "pd.set_option('display.max_columns', 500)\n",
        "pd.set_option('display.width', 1000)"
      ]
    },
    {
      "cell_type": "code",
      "source": [
        "merged_df = pd.read_csv('/data2022_features.csv')"
      ],
      "metadata": {
        "id": "ua78kekLEnmx"
      },
      "execution_count": null,
      "outputs": []
    },
    {
      "cell_type": "code",
      "execution_count": null,
      "metadata": {
        "id": "7SiF72Niys4f"
      },
      "outputs": [],
      "source": [
        "X = merged_df.drop(merged_df.columns[[0,1,2,3]], axis=1) \n",
        "Y = (merged_df['reliability']).values\n",
        "Y = Y.astype(int)\n",
        "X_train, X_test, Y_train, Y_test = train_test_split(X,Y, test_size = 0.10, random_state = 42)\n",
        "\n",
        "print(X_train.shape,Y_train.shape)\n",
        "print(X_test.shape,Y_test.shape)"
      ]
    },
    {
      "cell_type": "code",
      "execution_count": null,
      "metadata": {
        "id": "mBEJtKrTx8r-"
      },
      "outputs": [],
      "source": [
        "max_fatures = 20000 #unique words, set threshold on if it appears >3 times in dataset\n",
        "tokenizer = Tokenizer(num_words=max_fatures, split=' ', oov_token='<unw>')\n",
        "tokenizer.fit_on_texts(merged_df['body_text_processed'].values)\n",
        "X_train_text = tokenizer.texts_to_sequences(X_train['body_text_processed'].values)\n",
        "X_train_text = pad_sequences(X_train_text, padding = 'post', maxlen = 3500) #max words in article, set to largest word count \n",
        "X_train_features = X_train.drop(X_train.columns[0], axis=1) \n",
        "X_test_text = tokenizer.texts_to_sequences(X_test['body_text_processed'].values)\n",
        "X_test_text = pad_sequences(X_test_text, padding = 'post', maxlen = 3500) #max words in article, set to largest word count \n",
        "X_test_features = X_test.drop(X_test.columns[0], axis=1) "
      ]
    },
    {
      "cell_type": "code",
      "execution_count": null,
      "metadata": {
        "id": "LJVidFE0c32C"
      },
      "outputs": [],
      "source": [
        "merged_df['reliability']"
      ]
    },
    {
      "cell_type": "code",
      "execution_count": null,
      "metadata": {
        "id": "pj83ytKcAuxn"
      },
      "outputs": [],
      "source": [
        "X_train_text.shape"
      ]
    },
    {
      "cell_type": "code",
      "execution_count": null,
      "metadata": {
        "id": "OCty0llF-fou"
      },
      "outputs": [],
      "source": [
        "vocab_size = len(tokenizer.word_index) + 1\n",
        "print(vocab_size)"
      ]
    },
    {
      "cell_type": "code",
      "execution_count": null,
      "metadata": {
        "id": "gkNiUKDLhVfJ"
      },
      "outputs": [],
      "source": [
        "from numpy import array\n",
        "from numpy import asarray\n",
        "from numpy import zeros\n",
        "\n",
        "embeddings_dictionary = dict()\n",
        "glove_file = open('/content/gdrive/Shareddrives/National Undergraduate Big Data Challenge 2021/glove.6B.100d.txt', encoding=\"utf8\")"
      ]
    },
    {
      "cell_type": "code",
      "execution_count": null,
      "metadata": {
        "id": "iBvyEPY1X-_Z"
      },
      "outputs": [],
      "source": [
        "for line in glove_file:\n",
        "    records = line.split()\n",
        "    word = records[0]\n",
        "    vector_dimensions = asarray(records[1:], dtype='float32')\n",
        "    embeddings_dictionary [word] = vector_dimensions\n",
        "\n",
        "glove_file.close()"
      ]
    },
    {
      "cell_type": "code",
      "execution_count": null,
      "metadata": {
        "id": "kVElIbeyYV4q"
      },
      "outputs": [],
      "source": [
        "embedding_matrix = zeros((vocab_size, 100))\n",
        "for word, index in tokenizer.word_index.items():\n",
        "    embedding_vector = embeddings_dictionary.get(word)\n",
        "    if embedding_vector is not None:\n",
        "        embedding_matrix[index] = embedding_vector"
      ]
    },
    {
      "cell_type": "code",
      "execution_count": null,
      "metadata": {
        "id": "ZZvykW5mxma7"
      },
      "outputs": [],
      "source": [
        "#GRU\n",
        "from keras.layers import Dense, Embedding, LSTM, Bidirectional, Input, concatenate, GRU\n",
        "model4 = Sequential()\n",
        "model4.add(Embedding(vocab_size, 100, weights=[embedding_matrix], input_length=X_train_text.shape[1], trainable=True))\n",
        "model4.add(SpatialDropout1D(0.5))\n",
        "model4.add(Bidirectional(GRU(50)))\n",
        "#model4.add(layer = Dropout(rate = 0.5))\n",
        "model4.add(Dense(1,activation='sigmoid'))\n",
        "optimizer = Adam(learning_rate=0.001)\n",
        "model4.compile(loss = 'binary_crossentropy', optimizer=optimizer,metrics = ['accuracy'])\n",
        "print(model4.summary())\n",
        "#, dropout=0.4, recurrent_dropout=0.4)\n"
      ]
    },
    {
      "cell_type": "code",
      "execution_count": null,
      "metadata": {
        "id": "xI3jYjLQkkJn"
      },
      "outputs": [],
      "source": [
        "# Model Fitting\n",
        "H = model4.fit(x=[X_train_text], y=Y_train, epochs = 10, batch_size=64, validation_split=0.2,verbose=1)"
      ]
    },
    {
      "cell_type": "code",
      "source": [
        "X_full = tokenizer.texts_to_sequences(X['body_text_processed'].values)\n",
        "X_full = pad_sequences(X_full, padding = 'post', maxlen = 3500) #max words in article, set to largest word count \n",
        "X_full_features = X.drop(X.columns[0], axis=1) "
      ],
      "metadata": {
        "id": "cDHg63h_Pc7k"
      },
      "execution_count": null,
      "outputs": []
    },
    {
      "cell_type": "code",
      "source": [
        "preds = model4.predict([X_full])"
      ],
      "metadata": {
        "id": "ZfE-6IqrTA6_"
      },
      "execution_count": null,
      "outputs": []
    },
    {
      "cell_type": "code",
      "source": [
        "preds"
      ],
      "metadata": {
        "id": "9gSlNZSdTFK-"
      },
      "execution_count": null,
      "outputs": []
    },
    {
      "cell_type": "code",
      "source": [
        "X_full_features['pred'] = preds"
      ],
      "metadata": {
        "id": "zS9pOYSzTUvl"
      },
      "execution_count": null,
      "outputs": []
    },
    {
      "cell_type": "code",
      "source": [
        "X_full_features"
      ],
      "metadata": {
        "id": "PloHa03aTYDl"
      },
      "execution_count": null,
      "outputs": []
    },
    {
      "cell_type": "code",
      "source": [
        "from numpy import loadtxt\n",
        "from xgboost import XGBClassifier\n",
        "from sklearn.model_selection import train_test_split\n",
        "from sklearn.metrics import accuracy_score\n",
        "from matplotlib import pyplot\n",
        "\n",
        "X_train, X_test, y_train, y_test = train_test_split(X_full_features, Y, test_size=0.2, random_state=42)\n",
        "eval_set = [(X_train, y_train), (X_test, y_test)]\n",
        "\n",
        "model = XGBClassifier(silent=False, \n",
        "                      scale_pos_weight=1,\n",
        "                      learning_rate=0.01,  \n",
        "                      colsample_bytree = 0.6,\n",
        "                      subsample = 0.6,\n",
        "                      objective='binary:logistic', \n",
        "                      n_estimators=300, \n",
        "                      reg_alpha = 0.9,\n",
        "                      reg_lambda = 10,\n",
        "                      max_depth=3, \n",
        "                      gamma=10, \n",
        "                      random_state = 42)"
      ],
      "metadata": {
        "id": "B80du-FdTvm2"
      },
      "execution_count": null,
      "outputs": []
    },
    {
      "cell_type": "code",
      "source": [
        "model.fit(X_train, y_train, eval_metric=[\"error\", \"logloss\",'auc'], eval_set=eval_set, verbose=True)"
      ],
      "metadata": {
        "colab": {
          "base_uri": "https://localhost:8080/"
        },
        "id": "zGtpnPMNUjfy",
        "outputId": "5c22a9a2-593a-4a7d-d5b1-2800d9715682"
      },
      "execution_count": null,
      "outputs": [
        {
          "output_type": "stream",
          "name": "stdout",
          "text": [
            "[0]\tvalidation_0-error:0.2721\tvalidation_0-logloss:0.690948\tvalidation_0-auc:0.67887\tvalidation_1-error:0.285714\tvalidation_1-logloss:0.691013\tvalidation_1-auc:0.646321\n",
            "[1]\tvalidation_0-error:0.114107\tvalidation_0-logloss:0.684635\tvalidation_0-auc:0.94469\tvalidation_1-error:0.130326\tvalidation_1-logloss:0.684975\tvalidation_1-auc:0.929742\n",
            "[2]\tvalidation_0-error:0.09906\tvalidation_0-logloss:0.678396\tvalidation_0-auc:0.948924\tvalidation_1-error:0.110276\tvalidation_1-logloss:0.679066\tvalidation_1-auc:0.933056\n",
            "[3]\tvalidation_0-error:0.097806\tvalidation_0-logloss:0.672167\tvalidation_0-auc:0.94955\tvalidation_1-error:0.105263\tvalidation_1-logloss:0.673151\tvalidation_1-auc:0.93365\n",
            "[4]\tvalidation_0-error:0.097806\tvalidation_0-logloss:0.666113\tvalidation_0-auc:0.9496\tvalidation_1-error:0.105263\tvalidation_1-logloss:0.66742\tvalidation_1-auc:0.935083\n",
            "[5]\tvalidation_0-error:0.093417\tvalidation_0-logloss:0.660259\tvalidation_0-auc:0.956052\tvalidation_1-error:0.112782\tvalidation_1-logloss:0.661834\tvalidation_1-auc:0.937037\n",
            "[6]\tvalidation_0-error:0.09279\tvalidation_0-logloss:0.658169\tvalidation_0-auc:0.957994\tvalidation_1-error:0.110276\tvalidation_1-logloss:0.65999\tvalidation_1-auc:0.940207\n",
            "[7]\tvalidation_0-error:0.090909\tvalidation_0-logloss:0.65624\tvalidation_0-auc:0.955215\tvalidation_1-error:0.112782\tvalidation_1-logloss:0.65813\tvalidation_1-auc:0.936863\n",
            "[8]\tvalidation_0-error:0.090909\tvalidation_0-logloss:0.650386\tvalidation_0-auc:0.955201\tvalidation_1-error:0.112782\tvalidation_1-logloss:0.652591\tvalidation_1-auc:0.937746\n",
            "[9]\tvalidation_0-error:0.094671\tvalidation_0-logloss:0.64865\tvalidation_0-auc:0.954344\tvalidation_1-error:0.117794\tvalidation_1-logloss:0.650919\tvalidation_1-auc:0.937717\n",
            "[10]\tvalidation_0-error:0.094671\tvalidation_0-logloss:0.642956\tvalidation_0-auc:0.954305\tvalidation_1-error:0.117794\tvalidation_1-logloss:0.645534\tvalidation_1-auc:0.938383\n",
            "[11]\tvalidation_0-error:0.092163\tvalidation_0-logloss:0.637434\tvalidation_0-auc:0.954179\tvalidation_1-error:0.115288\tvalidation_1-logloss:0.640307\tvalidation_1-auc:0.938108\n",
            "[12]\tvalidation_0-error:0.092163\tvalidation_0-logloss:0.635732\tvalidation_0-auc:0.95343\tvalidation_1-error:0.115288\tvalidation_1-logloss:0.638769\tvalidation_1-auc:0.937833\n",
            "[13]\tvalidation_0-error:0.095925\tvalidation_0-logloss:0.633692\tvalidation_0-auc:0.953928\tvalidation_1-error:0.117794\tvalidation_1-logloss:0.636908\tvalidation_1-auc:0.938904\n",
            "[14]\tvalidation_0-error:0.095925\tvalidation_0-logloss:0.631985\tvalidation_0-auc:0.952413\tvalidation_1-error:0.117794\tvalidation_1-logloss:0.635289\tvalidation_1-auc:0.937051\n",
            "[15]\tvalidation_0-error:0.096552\tvalidation_0-logloss:0.630483\tvalidation_0-auc:0.951693\tvalidation_1-error:0.115288\tvalidation_1-logloss:0.633734\tvalidation_1-auc:0.935112\n",
            "[16]\tvalidation_0-error:0.098433\tvalidation_0-logloss:0.628758\tvalidation_0-auc:0.950558\tvalidation_1-error:0.112782\tvalidation_1-logloss:0.632152\tvalidation_1-auc:0.934967\n",
            "[17]\tvalidation_0-error:0.101567\tvalidation_0-logloss:0.627236\tvalidation_0-auc:0.950396\tvalidation_1-error:0.112782\tvalidation_1-logloss:0.63084\tvalidation_1-auc:0.934374\n",
            "[18]\tvalidation_0-error:0.104075\tvalidation_0-logloss:0.625814\tvalidation_0-auc:0.948958\tvalidation_1-error:0.112782\tvalidation_1-logloss:0.629343\tvalidation_1-auc:0.932405\n",
            "[19]\tvalidation_0-error:0.111599\tvalidation_0-logloss:0.624246\tvalidation_0-auc:0.948119\tvalidation_1-error:0.125313\tvalidation_1-logloss:0.628154\tvalidation_1-auc:0.931059\n",
            "[20]\tvalidation_0-error:0.123511\tvalidation_0-logloss:0.622667\tvalidation_0-auc:0.946659\tvalidation_1-error:0.132832\tvalidation_1-logloss:0.626735\tvalidation_1-auc:0.930509\n",
            "[21]\tvalidation_0-error:0.110345\tvalidation_0-logloss:0.617465\tvalidation_0-auc:0.947937\tvalidation_1-error:0.115288\tvalidation_1-logloss:0.621844\tvalidation_1-auc:0.930943\n",
            "[22]\tvalidation_0-error:0.10094\tvalidation_0-logloss:0.612255\tvalidation_0-auc:0.94943\tvalidation_1-error:0.105263\tvalidation_1-logloss:0.616789\tvalidation_1-auc:0.932217\n",
            "[23]\tvalidation_0-error:0.097806\tvalidation_0-logloss:0.607243\tvalidation_0-auc:0.950274\tvalidation_1-error:0.107769\tvalidation_1-logloss:0.612085\tvalidation_1-auc:0.933143\n",
            "[24]\tvalidation_0-error:0.100313\tvalidation_0-logloss:0.605626\tvalidation_0-auc:0.949764\tvalidation_1-error:0.107769\tvalidation_1-logloss:0.610664\tvalidation_1-auc:0.931073\n",
            "[25]\tvalidation_0-error:0.097806\tvalidation_0-logloss:0.600685\tvalidation_0-auc:0.950183\tvalidation_1-error:0.107769\tvalidation_1-logloss:0.605959\tvalidation_1-auc:0.931334\n",
            "[26]\tvalidation_0-error:0.098433\tvalidation_0-logloss:0.599293\tvalidation_0-auc:0.949846\tvalidation_1-error:0.112782\tvalidation_1-logloss:0.6047\tvalidation_1-auc:0.930813\n",
            "[27]\tvalidation_0-error:0.097806\tvalidation_0-logloss:0.594433\tvalidation_0-auc:0.951561\tvalidation_1-error:0.112782\tvalidation_1-logloss:0.600062\tvalidation_1-auc:0.93255\n",
            "[28]\tvalidation_0-error:0.099687\tvalidation_0-logloss:0.593048\tvalidation_0-auc:0.950579\tvalidation_1-error:0.112782\tvalidation_1-logloss:0.59879\tvalidation_1-auc:0.931406\n",
            "[29]\tvalidation_0-error:0.10094\tvalidation_0-logloss:0.591535\tvalidation_0-auc:0.950298\tvalidation_1-error:0.112782\tvalidation_1-logloss:0.597488\tvalidation_1-auc:0.931493\n",
            "[30]\tvalidation_0-error:0.10094\tvalidation_0-logloss:0.5868\tvalidation_0-auc:0.950961\tvalidation_1-error:0.110276\tvalidation_1-logloss:0.593051\tvalidation_1-auc:0.932217\n",
            "[31]\tvalidation_0-error:0.101567\tvalidation_0-logloss:0.585615\tvalidation_0-auc:0.950343\tvalidation_1-error:0.110276\tvalidation_1-logloss:0.591966\tvalidation_1-auc:0.931812\n",
            "[32]\tvalidation_0-error:0.09906\tvalidation_0-logloss:0.58097\tvalidation_0-auc:0.951224\tvalidation_1-error:0.110276\tvalidation_1-logloss:0.587575\tvalidation_1-auc:0.93242\n",
            "[33]\tvalidation_0-error:0.097179\tvalidation_0-logloss:0.57647\tvalidation_0-auc:0.952326\tvalidation_1-error:0.112782\tvalidation_1-logloss:0.583281\tvalidation_1-auc:0.933143\n",
            "[34]\tvalidation_0-error:0.097806\tvalidation_0-logloss:0.575344\tvalidation_0-auc:0.951792\tvalidation_1-error:0.107769\tvalidation_1-logloss:0.582332\tvalidation_1-auc:0.933071\n",
            "[35]\tvalidation_0-error:0.097179\tvalidation_0-logloss:0.570705\tvalidation_0-auc:0.952119\tvalidation_1-error:0.107769\tvalidation_1-logloss:0.57799\tvalidation_1-auc:0.933534\n",
            "[36]\tvalidation_0-error:0.097179\tvalidation_0-logloss:0.566334\tvalidation_0-auc:0.952442\tvalidation_1-error:0.107769\tvalidation_1-logloss:0.573877\tvalidation_1-auc:0.934547\n",
            "[37]\tvalidation_0-error:0.097179\tvalidation_0-logloss:0.562004\tvalidation_0-auc:0.952587\tvalidation_1-error:0.112782\tvalidation_1-logloss:0.569821\tvalidation_1-auc:0.934837\n",
            "[38]\tvalidation_0-error:0.097179\tvalidation_0-logloss:0.557868\tvalidation_0-auc:0.953295\tvalidation_1-error:0.115288\tvalidation_1-logloss:0.565877\tvalidation_1-auc:0.9353\n",
            "[39]\tvalidation_0-error:0.097179\tvalidation_0-logloss:0.553809\tvalidation_0-auc:0.953604\tvalidation_1-error:0.115288\tvalidation_1-logloss:0.562004\tvalidation_1-auc:0.93585\n",
            "[40]\tvalidation_0-error:0.097179\tvalidation_0-logloss:0.552558\tvalidation_0-auc:0.952871\tvalidation_1-error:0.115288\tvalidation_1-logloss:0.560919\tvalidation_1-auc:0.935126\n",
            "[41]\tvalidation_0-error:0.097806\tvalidation_0-logloss:0.548388\tvalidation_0-auc:0.952955\tvalidation_1-error:0.115288\tvalidation_1-logloss:0.556992\tvalidation_1-auc:0.935155\n",
            "[42]\tvalidation_0-error:0.097179\tvalidation_0-logloss:0.54738\tvalidation_0-auc:0.952544\tvalidation_1-error:0.115288\tvalidation_1-logloss:0.55615\tvalidation_1-auc:0.934924\n",
            "[43]\tvalidation_0-error:0.097806\tvalidation_0-logloss:0.543405\tvalidation_0-auc:0.952634\tvalidation_1-error:0.115288\tvalidation_1-logloss:0.552441\tvalidation_1-auc:0.934866\n",
            "[44]\tvalidation_0-error:0.097806\tvalidation_0-logloss:0.539413\tvalidation_0-auc:0.95293\tvalidation_1-error:0.115288\tvalidation_1-logloss:0.548682\tvalidation_1-auc:0.934721\n",
            "[45]\tvalidation_0-error:0.097179\tvalidation_0-logloss:0.538369\tvalidation_0-auc:0.952659\tvalidation_1-error:0.115288\tvalidation_1-logloss:0.547624\tvalidation_1-auc:0.934634\n",
            "[46]\tvalidation_0-error:0.097806\tvalidation_0-logloss:0.534354\tvalidation_0-auc:0.952693\tvalidation_1-error:0.115288\tvalidation_1-logloss:0.543884\tvalidation_1-auc:0.93446\n",
            "[47]\tvalidation_0-error:0.097179\tvalidation_0-logloss:0.533338\tvalidation_0-auc:0.952262\tvalidation_1-error:0.112782\tvalidation_1-logloss:0.543003\tvalidation_1-auc:0.933997\n",
            "[48]\tvalidation_0-error:0.097179\tvalidation_0-logloss:0.529459\tvalidation_0-auc:0.952484\tvalidation_1-error:0.115288\tvalidation_1-logloss:0.539359\tvalidation_1-auc:0.934316\n",
            "[49]\tvalidation_0-error:0.097179\tvalidation_0-logloss:0.528469\tvalidation_0-auc:0.952042\tvalidation_1-error:0.115288\tvalidation_1-logloss:0.538507\tvalidation_1-auc:0.934113\n",
            "[50]\tvalidation_0-error:0.097179\tvalidation_0-logloss:0.527473\tvalidation_0-auc:0.951931\tvalidation_1-error:0.115288\tvalidation_1-logloss:0.537456\tvalidation_1-auc:0.934243\n",
            "[51]\tvalidation_0-error:0.096552\tvalidation_0-logloss:0.526496\tvalidation_0-auc:0.951687\tvalidation_1-error:0.115288\tvalidation_1-logloss:0.536612\tvalidation_1-auc:0.93446\n",
            "[52]\tvalidation_0-error:0.096552\tvalidation_0-logloss:0.522784\tvalidation_0-auc:0.951726\tvalidation_1-error:0.115288\tvalidation_1-logloss:0.533117\tvalidation_1-auc:0.934345\n",
            "[53]\tvalidation_0-error:0.096552\tvalidation_0-logloss:0.521821\tvalidation_0-auc:0.951426\tvalidation_1-error:0.115288\tvalidation_1-logloss:0.532271\tvalidation_1-auc:0.934403\n",
            "[54]\tvalidation_0-error:0.096552\tvalidation_0-logloss:0.518206\tvalidation_0-auc:0.951583\tvalidation_1-error:0.115288\tvalidation_1-logloss:0.528773\tvalidation_1-auc:0.934345\n",
            "[55]\tvalidation_0-error:0.097179\tvalidation_0-logloss:0.514549\tvalidation_0-auc:0.951762\tvalidation_1-error:0.115288\tvalidation_1-logloss:0.525336\tvalidation_1-auc:0.934663\n",
            "[56]\tvalidation_0-error:0.097179\tvalidation_0-logloss:0.511046\tvalidation_0-auc:0.951794\tvalidation_1-error:0.115288\tvalidation_1-logloss:0.52204\tvalidation_1-auc:0.93475\n",
            "[57]\tvalidation_0-error:0.097179\tvalidation_0-logloss:0.50754\tvalidation_0-auc:0.951824\tvalidation_1-error:0.115288\tvalidation_1-logloss:0.518747\tvalidation_1-auc:0.934837\n",
            "[58]\tvalidation_0-error:0.097179\tvalidation_0-logloss:0.504102\tvalidation_0-auc:0.951824\tvalidation_1-error:0.115288\tvalidation_1-logloss:0.515519\tvalidation_1-auc:0.934952\n",
            "[59]\tvalidation_0-error:0.096552\tvalidation_0-logloss:0.500735\tvalidation_0-auc:0.952272\tvalidation_1-error:0.112782\tvalidation_1-logloss:0.512355\tvalidation_1-auc:0.935068\n",
            "[60]\tvalidation_0-error:0.097179\tvalidation_0-logloss:0.497296\tvalidation_0-auc:0.952906\tvalidation_1-error:0.112782\tvalidation_1-logloss:0.509093\tvalidation_1-auc:0.935618\n",
            "[61]\tvalidation_0-error:0.097179\tvalidation_0-logloss:0.494042\tvalidation_0-auc:0.952981\tvalidation_1-error:0.112782\tvalidation_1-logloss:0.50605\tvalidation_1-auc:0.935763\n",
            "[62]\tvalidation_0-error:0.097179\tvalidation_0-logloss:0.493349\tvalidation_0-auc:0.952826\tvalidation_1-error:0.112782\tvalidation_1-logloss:0.505416\tvalidation_1-auc:0.935705\n",
            "[63]\tvalidation_0-error:0.097806\tvalidation_0-logloss:0.490035\tvalidation_0-auc:0.952946\tvalidation_1-error:0.112782\tvalidation_1-logloss:0.502259\tvalidation_1-auc:0.935734\n",
            "[64]\tvalidation_0-error:0.097806\tvalidation_0-logloss:0.489236\tvalidation_0-auc:0.952835\tvalidation_1-error:0.112782\tvalidation_1-logloss:0.501584\tvalidation_1-auc:0.935503\n",
            "[65]\tvalidation_0-error:0.09906\tvalidation_0-logloss:0.486037\tvalidation_0-auc:0.953466\tvalidation_1-error:0.112782\tvalidation_1-logloss:0.498553\tvalidation_1-auc:0.936139\n",
            "[66]\tvalidation_0-error:0.098433\tvalidation_0-logloss:0.485326\tvalidation_0-auc:0.953244\tvalidation_1-error:0.112782\tvalidation_1-logloss:0.497834\tvalidation_1-auc:0.936197\n",
            "[67]\tvalidation_0-error:0.098433\tvalidation_0-logloss:0.482178\tvalidation_0-auc:0.95346\tvalidation_1-error:0.112782\tvalidation_1-logloss:0.494864\tvalidation_1-auc:0.936313\n",
            "[68]\tvalidation_0-error:0.097806\tvalidation_0-logloss:0.479164\tvalidation_0-auc:0.953535\tvalidation_1-error:0.112782\tvalidation_1-logloss:0.49203\tvalidation_1-auc:0.936371\n",
            "[69]\tvalidation_0-error:0.09906\tvalidation_0-logloss:0.476309\tvalidation_0-auc:0.953525\tvalidation_1-error:0.112782\tvalidation_1-logloss:0.489407\tvalidation_1-auc:0.936371\n",
            "[70]\tvalidation_0-error:0.09906\tvalidation_0-logloss:0.473301\tvalidation_0-auc:0.953523\tvalidation_1-error:0.112782\tvalidation_1-logloss:0.486622\tvalidation_1-auc:0.936313\n",
            "[71]\tvalidation_0-error:0.09906\tvalidation_0-logloss:0.472586\tvalidation_0-auc:0.953333\tvalidation_1-error:0.112782\tvalidation_1-logloss:0.485866\tvalidation_1-auc:0.936675\n",
            "[72]\tvalidation_0-error:0.098433\tvalidation_0-logloss:0.471845\tvalidation_0-auc:0.953278\tvalidation_1-error:0.112782\tvalidation_1-logloss:0.485194\tvalidation_1-auc:0.93682\n",
            "[73]\tvalidation_0-error:0.097806\tvalidation_0-logloss:0.468941\tvalidation_0-auc:0.953267\tvalidation_1-error:0.112782\tvalidation_1-logloss:0.482438\tvalidation_1-auc:0.936791\n",
            "[74]\tvalidation_0-error:0.098433\tvalidation_0-logloss:0.46608\tvalidation_0-auc:0.953287\tvalidation_1-error:0.112782\tvalidation_1-logloss:0.479767\tvalidation_1-auc:0.93682\n",
            "[75]\tvalidation_0-error:0.098433\tvalidation_0-logloss:0.463138\tvalidation_0-auc:0.953285\tvalidation_1-error:0.112782\tvalidation_1-logloss:0.477021\tvalidation_1-auc:0.936849\n",
            "[76]\tvalidation_0-error:0.098433\tvalidation_0-logloss:0.460344\tvalidation_0-auc:0.953301\tvalidation_1-error:0.112782\tvalidation_1-logloss:0.47441\tvalidation_1-auc:0.936762\n",
            "[77]\tvalidation_0-error:0.098433\tvalidation_0-logloss:0.459643\tvalidation_0-auc:0.953333\tvalidation_1-error:0.112782\tvalidation_1-logloss:0.473791\tvalidation_1-auc:0.936849\n",
            "[78]\tvalidation_0-error:0.098433\tvalidation_0-logloss:0.459032\tvalidation_0-auc:0.953344\tvalidation_1-error:0.112782\tvalidation_1-logloss:0.473155\tvalidation_1-auc:0.936762\n",
            "[79]\tvalidation_0-error:0.098433\tvalidation_0-logloss:0.456321\tvalidation_0-auc:0.953357\tvalidation_1-error:0.112782\tvalidation_1-logloss:0.470624\tvalidation_1-auc:0.936791\n",
            "[80]\tvalidation_0-error:0.098433\tvalidation_0-logloss:0.453606\tvalidation_0-auc:0.953542\tvalidation_1-error:0.112782\tvalidation_1-logloss:0.468059\tvalidation_1-auc:0.93682\n",
            "[81]\tvalidation_0-error:0.09906\tvalidation_0-logloss:0.453052\tvalidation_0-auc:0.953377\tvalidation_1-error:0.112782\tvalidation_1-logloss:0.467609\tvalidation_1-auc:0.936747\n",
            "[82]\tvalidation_0-error:0.098433\tvalidation_0-logloss:0.452639\tvalidation_0-auc:0.953331\tvalidation_1-error:0.112782\tvalidation_1-logloss:0.467214\tvalidation_1-auc:0.93666\n",
            "[83]\tvalidation_0-error:0.098433\tvalidation_0-logloss:0.450071\tvalidation_0-auc:0.953429\tvalidation_1-error:0.112782\tvalidation_1-logloss:0.464794\tvalidation_1-auc:0.936689\n",
            "[84]\tvalidation_0-error:0.098433\tvalidation_0-logloss:0.449324\tvalidation_0-auc:0.953342\tvalidation_1-error:0.112782\tvalidation_1-logloss:0.46425\tvalidation_1-auc:0.936284\n",
            "[85]\tvalidation_0-error:0.098433\tvalidation_0-logloss:0.448779\tvalidation_0-auc:0.953289\tvalidation_1-error:0.112782\tvalidation_1-logloss:0.463685\tvalidation_1-auc:0.936313\n",
            "[86]\tvalidation_0-error:0.097806\tvalidation_0-logloss:0.448138\tvalidation_0-auc:0.953185\tvalidation_1-error:0.112782\tvalidation_1-logloss:0.463056\tvalidation_1-auc:0.935879\n",
            "[87]\tvalidation_0-error:0.097179\tvalidation_0-logloss:0.447726\tvalidation_0-auc:0.953155\tvalidation_1-error:0.112782\tvalidation_1-logloss:0.46264\tvalidation_1-auc:0.935879\n",
            "[88]\tvalidation_0-error:0.097179\tvalidation_0-logloss:0.447194\tvalidation_0-auc:0.953085\tvalidation_1-error:0.112782\tvalidation_1-logloss:0.462104\tvalidation_1-auc:0.93585\n",
            "[89]\tvalidation_0-error:0.096552\tvalidation_0-logloss:0.446578\tvalidation_0-auc:0.952874\tvalidation_1-error:0.112782\tvalidation_1-logloss:0.461503\tvalidation_1-auc:0.935734\n",
            "[90]\tvalidation_0-error:0.096552\tvalidation_0-logloss:0.444019\tvalidation_0-auc:0.952869\tvalidation_1-error:0.112782\tvalidation_1-logloss:0.459143\tvalidation_1-auc:0.935734\n",
            "[91]\tvalidation_0-error:0.096552\tvalidation_0-logloss:0.443434\tvalidation_0-auc:0.95282\tvalidation_1-error:0.112782\tvalidation_1-logloss:0.458633\tvalidation_1-auc:0.935618\n",
            "[92]\tvalidation_0-error:0.096552\tvalidation_0-logloss:0.440917\tvalidation_0-auc:0.952892\tvalidation_1-error:0.112782\tvalidation_1-logloss:0.456218\tvalidation_1-auc:0.935647\n",
            "[93]\tvalidation_0-error:0.097179\tvalidation_0-logloss:0.438373\tvalidation_0-auc:0.952992\tvalidation_1-error:0.112782\tvalidation_1-logloss:0.453843\tvalidation_1-auc:0.93585\n",
            "[94]\tvalidation_0-error:0.097179\tvalidation_0-logloss:0.435852\tvalidation_0-auc:0.953012\tvalidation_1-error:0.112782\tvalidation_1-logloss:0.451495\tvalidation_1-auc:0.93585\n",
            "[95]\tvalidation_0-error:0.097179\tvalidation_0-logloss:0.43342\tvalidation_0-auc:0.953133\tvalidation_1-error:0.112782\tvalidation_1-logloss:0.449251\tvalidation_1-auc:0.935995\n",
            "[96]\tvalidation_0-error:0.097179\tvalidation_0-logloss:0.431059\tvalidation_0-auc:0.95329\tvalidation_1-error:0.112782\tvalidation_1-logloss:0.447085\tvalidation_1-auc:0.936139\n",
            "[97]\tvalidation_0-error:0.097179\tvalidation_0-logloss:0.430559\tvalidation_0-auc:0.953237\tvalidation_1-error:0.112782\tvalidation_1-logloss:0.446551\tvalidation_1-auc:0.936053\n",
            "[98]\tvalidation_0-error:0.097179\tvalidation_0-logloss:0.428187\tvalidation_0-auc:0.953239\tvalidation_1-error:0.112782\tvalidation_1-logloss:0.44438\tvalidation_1-auc:0.936053\n",
            "[99]\tvalidation_0-error:0.097179\tvalidation_0-logloss:0.427816\tvalidation_0-auc:0.953307\tvalidation_1-error:0.112782\tvalidation_1-logloss:0.443981\tvalidation_1-auc:0.936139\n",
            "[100]\tvalidation_0-error:0.096552\tvalidation_0-logloss:0.427417\tvalidation_0-auc:0.953153\tvalidation_1-error:0.112782\tvalidation_1-logloss:0.443627\tvalidation_1-auc:0.935734\n",
            "[101]\tvalidation_0-error:0.096552\tvalidation_0-logloss:0.426999\tvalidation_0-auc:0.952921\tvalidation_1-error:0.112782\tvalidation_1-logloss:0.443234\tvalidation_1-auc:0.935416\n",
            "[102]\tvalidation_0-error:0.097179\tvalidation_0-logloss:0.424711\tvalidation_0-auc:0.952965\tvalidation_1-error:0.112782\tvalidation_1-logloss:0.441116\tvalidation_1-auc:0.935503\n",
            "[103]\tvalidation_0-error:0.097179\tvalidation_0-logloss:0.42245\tvalidation_0-auc:0.953099\tvalidation_1-error:0.112782\tvalidation_1-logloss:0.438994\tvalidation_1-auc:0.935734\n",
            "[104]\tvalidation_0-error:0.097179\tvalidation_0-logloss:0.4202\tvalidation_0-auc:0.953099\tvalidation_1-error:0.112782\tvalidation_1-logloss:0.436901\tvalidation_1-auc:0.935821\n",
            "[105]\tvalidation_0-error:0.097179\tvalidation_0-logloss:0.419615\tvalidation_0-auc:0.95296\tvalidation_1-error:0.112782\tvalidation_1-logloss:0.436425\tvalidation_1-auc:0.935821\n",
            "[106]\tvalidation_0-error:0.097806\tvalidation_0-logloss:0.417396\tvalidation_0-auc:0.953085\tvalidation_1-error:0.112782\tvalidation_1-logloss:0.434348\tvalidation_1-auc:0.936082\n",
            "[107]\tvalidation_0-error:0.097806\tvalidation_0-logloss:0.416952\tvalidation_0-auc:0.953012\tvalidation_1-error:0.112782\tvalidation_1-logloss:0.433846\tvalidation_1-auc:0.935995\n",
            "[108]\tvalidation_0-error:0.097806\tvalidation_0-logloss:0.41466\tvalidation_0-auc:0.953126\tvalidation_1-error:0.112782\tvalidation_1-logloss:0.431745\tvalidation_1-auc:0.936024\n",
            "[109]\tvalidation_0-error:0.097179\tvalidation_0-logloss:0.412574\tvalidation_0-auc:0.953344\tvalidation_1-error:0.112782\tvalidation_1-logloss:0.4298\tvalidation_1-auc:0.936313\n",
            "[110]\tvalidation_0-error:0.097179\tvalidation_0-logloss:0.412241\tvalidation_0-auc:0.953535\tvalidation_1-error:0.112782\tvalidation_1-logloss:0.429517\tvalidation_1-auc:0.936197\n",
            "[111]\tvalidation_0-error:0.097806\tvalidation_0-logloss:0.410159\tvalidation_0-auc:0.95366\tvalidation_1-error:0.112782\tvalidation_1-logloss:0.42766\tvalidation_1-auc:0.936255\n",
            "[112]\tvalidation_0-error:0.097179\tvalidation_0-logloss:0.407996\tvalidation_0-auc:0.953739\tvalidation_1-error:0.112782\tvalidation_1-logloss:0.42566\tvalidation_1-auc:0.936197\n",
            "[113]\tvalidation_0-error:0.097179\tvalidation_0-logloss:0.405828\tvalidation_0-auc:0.954125\tvalidation_1-error:0.112782\tvalidation_1-logloss:0.423659\tvalidation_1-auc:0.936429\n",
            "[114]\tvalidation_0-error:0.097179\tvalidation_0-logloss:0.403791\tvalidation_0-auc:0.954173\tvalidation_1-error:0.112782\tvalidation_1-logloss:0.421789\tvalidation_1-auc:0.936458\n",
            "[115]\tvalidation_0-error:0.096552\tvalidation_0-logloss:0.401728\tvalidation_0-auc:0.954347\tvalidation_1-error:0.112782\tvalidation_1-logloss:0.419856\tvalidation_1-auc:0.936632\n",
            "[116]\tvalidation_0-error:0.097179\tvalidation_0-logloss:0.401541\tvalidation_0-auc:0.954347\tvalidation_1-error:0.112782\tvalidation_1-logloss:0.419646\tvalidation_1-auc:0.936632\n",
            "[117]\tvalidation_0-error:0.097179\tvalidation_0-logloss:0.399502\tvalidation_0-auc:0.95435\tvalidation_1-error:0.112782\tvalidation_1-logloss:0.417799\tvalidation_1-auc:0.936603\n",
            "[118]\tvalidation_0-error:0.097179\tvalidation_0-logloss:0.399172\tvalidation_0-auc:0.954287\tvalidation_1-error:0.112782\tvalidation_1-logloss:0.417476\tvalidation_1-auc:0.936313\n",
            "[119]\tvalidation_0-error:0.097179\tvalidation_0-logloss:0.397171\tvalidation_0-auc:0.954287\tvalidation_1-error:0.112782\tvalidation_1-logloss:0.415634\tvalidation_1-auc:0.936255\n",
            "[120]\tvalidation_0-error:0.097179\tvalidation_0-logloss:0.395199\tvalidation_0-auc:0.954426\tvalidation_1-error:0.112782\tvalidation_1-logloss:0.413816\tvalidation_1-auc:0.936197\n",
            "[121]\tvalidation_0-error:0.097179\tvalidation_0-logloss:0.393235\tvalidation_0-auc:0.954526\tvalidation_1-error:0.112782\tvalidation_1-logloss:0.411983\tvalidation_1-auc:0.936313\n",
            "[122]\tvalidation_0-error:0.097179\tvalidation_0-logloss:0.391261\tvalidation_0-auc:0.954734\tvalidation_1-error:0.112782\tvalidation_1-logloss:0.410144\tvalidation_1-auc:0.936429\n",
            "[123]\tvalidation_0-error:0.097179\tvalidation_0-logloss:0.389387\tvalidation_0-auc:0.954818\tvalidation_1-error:0.112782\tvalidation_1-logloss:0.408405\tvalidation_1-auc:0.936487\n",
            "[124]\tvalidation_0-error:0.097179\tvalidation_0-logloss:0.387455\tvalidation_0-auc:0.954989\tvalidation_1-error:0.112782\tvalidation_1-logloss:0.406638\tvalidation_1-auc:0.936545\n",
            "[125]\tvalidation_0-error:0.097179\tvalidation_0-logloss:0.385599\tvalidation_0-auc:0.955064\tvalidation_1-error:0.112782\tvalidation_1-logloss:0.404915\tvalidation_1-auc:0.936718\n",
            "[126]\tvalidation_0-error:0.097806\tvalidation_0-logloss:0.385238\tvalidation_0-auc:0.955194\tvalidation_1-error:0.112782\tvalidation_1-logloss:0.404485\tvalidation_1-auc:0.936834\n",
            "[127]\tvalidation_0-error:0.097179\tvalidation_0-logloss:0.384981\tvalidation_0-auc:0.955089\tvalidation_1-error:0.112782\tvalidation_1-logloss:0.40423\tvalidation_1-auc:0.937066\n",
            "[128]\tvalidation_0-error:0.096552\tvalidation_0-logloss:0.383332\tvalidation_0-auc:0.955089\tvalidation_1-error:0.112782\tvalidation_1-logloss:0.402758\tvalidation_1-auc:0.937066\n",
            "[129]\tvalidation_0-error:0.096552\tvalidation_0-logloss:0.381544\tvalidation_0-auc:0.955137\tvalidation_1-error:0.112782\tvalidation_1-logloss:0.401141\tvalidation_1-auc:0.937037\n",
            "[130]\tvalidation_0-error:0.096552\tvalidation_0-logloss:0.379769\tvalidation_0-auc:0.955232\tvalidation_1-error:0.112782\tvalidation_1-logloss:0.399484\tvalidation_1-auc:0.937095\n",
            "[131]\tvalidation_0-error:0.097179\tvalidation_0-logloss:0.379543\tvalidation_0-auc:0.955205\tvalidation_1-error:0.112782\tvalidation_1-logloss:0.399274\tvalidation_1-auc:0.937066\n",
            "[132]\tvalidation_0-error:0.097179\tvalidation_0-logloss:0.377737\tvalidation_0-auc:0.955386\tvalidation_1-error:0.112782\tvalidation_1-logloss:0.397599\tvalidation_1-auc:0.937153\n",
            "[133]\tvalidation_0-error:0.097179\tvalidation_0-logloss:0.376038\tvalidation_0-auc:0.955395\tvalidation_1-error:0.110276\tvalidation_1-logloss:0.396028\tvalidation_1-auc:0.937066\n",
            "[134]\tvalidation_0-error:0.096552\tvalidation_0-logloss:0.375714\tvalidation_0-auc:0.955393\tvalidation_1-error:0.112782\tvalidation_1-logloss:0.39575\tvalidation_1-auc:0.937268\n",
            "[135]\tvalidation_0-error:0.096552\tvalidation_0-logloss:0.374051\tvalidation_0-auc:0.955393\tvalidation_1-error:0.112782\tvalidation_1-logloss:0.394202\tvalidation_1-auc:0.937268\n",
            "[136]\tvalidation_0-error:0.096552\tvalidation_0-logloss:0.373849\tvalidation_0-auc:0.955343\tvalidation_1-error:0.112782\tvalidation_1-logloss:0.394013\tvalidation_1-auc:0.937211\n",
            "[137]\tvalidation_0-error:0.096552\tvalidation_0-logloss:0.373535\tvalidation_0-auc:0.955314\tvalidation_1-error:0.112782\tvalidation_1-logloss:0.393729\tvalidation_1-auc:0.937268\n",
            "[138]\tvalidation_0-error:0.096552\tvalidation_0-logloss:0.371902\tvalidation_0-auc:0.955672\tvalidation_1-error:0.112782\tvalidation_1-logloss:0.392244\tvalidation_1-auc:0.937326\n",
            "[139]\tvalidation_0-error:0.096552\tvalidation_0-logloss:0.371703\tvalidation_0-auc:0.955679\tvalidation_1-error:0.112782\tvalidation_1-logloss:0.392065\tvalidation_1-auc:0.937384\n",
            "[140]\tvalidation_0-error:0.096552\tvalidation_0-logloss:0.371524\tvalidation_0-auc:0.955658\tvalidation_1-error:0.112782\tvalidation_1-logloss:0.391878\tvalidation_1-auc:0.937268\n",
            "[141]\tvalidation_0-error:0.096552\tvalidation_0-logloss:0.371329\tvalidation_0-auc:0.955686\tvalidation_1-error:0.112782\tvalidation_1-logloss:0.391669\tvalidation_1-auc:0.937124\n",
            "[142]\tvalidation_0-error:0.096552\tvalidation_0-logloss:0.369665\tvalidation_0-auc:0.955852\tvalidation_1-error:0.112782\tvalidation_1-logloss:0.390138\tvalidation_1-auc:0.937211\n",
            "[143]\tvalidation_0-error:0.096552\tvalidation_0-logloss:0.3694\tvalidation_0-auc:0.955808\tvalidation_1-error:0.112782\tvalidation_1-logloss:0.389857\tvalidation_1-auc:0.937066\n",
            "[144]\tvalidation_0-error:0.095925\tvalidation_0-logloss:0.367935\tvalidation_0-auc:0.955809\tvalidation_1-error:0.112782\tvalidation_1-logloss:0.388559\tvalidation_1-auc:0.937066\n",
            "[145]\tvalidation_0-error:0.095925\tvalidation_0-logloss:0.367518\tvalidation_0-auc:0.955817\tvalidation_1-error:0.112782\tvalidation_1-logloss:0.388118\tvalidation_1-auc:0.937211\n",
            "[146]\tvalidation_0-error:0.095925\tvalidation_0-logloss:0.365965\tvalidation_0-auc:0.955904\tvalidation_1-error:0.112782\tvalidation_1-logloss:0.386713\tvalidation_1-auc:0.937211\n",
            "[147]\tvalidation_0-error:0.095298\tvalidation_0-logloss:0.364401\tvalidation_0-auc:0.955915\tvalidation_1-error:0.107769\tvalidation_1-logloss:0.385291\tvalidation_1-auc:0.937239\n",
            "[148]\tvalidation_0-error:0.095298\tvalidation_0-logloss:0.362883\tvalidation_0-auc:0.956092\tvalidation_1-error:0.107769\tvalidation_1-logloss:0.383897\tvalidation_1-auc:0.937239\n",
            "[149]\tvalidation_0-error:0.095298\tvalidation_0-logloss:0.362804\tvalidation_0-auc:0.956092\tvalidation_1-error:0.107769\tvalidation_1-logloss:0.383805\tvalidation_1-auc:0.937239\n",
            "[150]\tvalidation_0-error:0.095298\tvalidation_0-logloss:0.361338\tvalidation_0-auc:0.956144\tvalidation_1-error:0.107769\tvalidation_1-logloss:0.382461\tvalidation_1-auc:0.937211\n",
            "[151]\tvalidation_0-error:0.095298\tvalidation_0-logloss:0.359932\tvalidation_0-auc:0.956185\tvalidation_1-error:0.107769\tvalidation_1-logloss:0.381167\tvalidation_1-auc:0.937268\n",
            "[152]\tvalidation_0-error:0.095298\tvalidation_0-logloss:0.359751\tvalidation_0-auc:0.956079\tvalidation_1-error:0.107769\tvalidation_1-logloss:0.380978\tvalidation_1-auc:0.937616\n",
            "[153]\tvalidation_0-error:0.095925\tvalidation_0-logloss:0.359551\tvalidation_0-auc:0.956036\tvalidation_1-error:0.110276\tvalidation_1-logloss:0.380795\tvalidation_1-auc:0.937645\n",
            "[154]\tvalidation_0-error:0.095925\tvalidation_0-logloss:0.357998\tvalidation_0-auc:0.956158\tvalidation_1-error:0.110276\tvalidation_1-logloss:0.379402\tvalidation_1-auc:0.937616\n",
            "[155]\tvalidation_0-error:0.095298\tvalidation_0-logloss:0.356698\tvalidation_0-auc:0.956158\tvalidation_1-error:0.107769\tvalidation_1-logloss:0.378258\tvalidation_1-auc:0.937616\n",
            "[156]\tvalidation_0-error:0.094671\tvalidation_0-logloss:0.355324\tvalidation_0-auc:0.956185\tvalidation_1-error:0.107769\tvalidation_1-logloss:0.377047\tvalidation_1-auc:0.937587\n",
            "[157]\tvalidation_0-error:0.094044\tvalidation_0-logloss:0.354028\tvalidation_0-auc:0.956224\tvalidation_1-error:0.110276\tvalidation_1-logloss:0.375881\tvalidation_1-auc:0.937616\n",
            "[158]\tvalidation_0-error:0.094044\tvalidation_0-logloss:0.352568\tvalidation_0-auc:0.956346\tvalidation_1-error:0.110276\tvalidation_1-logloss:0.374578\tvalidation_1-auc:0.937732\n",
            "[159]\tvalidation_0-error:0.094044\tvalidation_0-logloss:0.351132\tvalidation_0-auc:0.956458\tvalidation_1-error:0.110276\tvalidation_1-logloss:0.373278\tvalidation_1-auc:0.937876\n",
            "[160]\tvalidation_0-error:0.094044\tvalidation_0-logloss:0.350975\tvalidation_0-auc:0.956455\tvalidation_1-error:0.110276\tvalidation_1-logloss:0.373111\tvalidation_1-auc:0.937645\n",
            "[161]\tvalidation_0-error:0.094044\tvalidation_0-logloss:0.349506\tvalidation_0-auc:0.956471\tvalidation_1-error:0.107769\tvalidation_1-logloss:0.371762\tvalidation_1-auc:0.937732\n",
            "[162]\tvalidation_0-error:0.094044\tvalidation_0-logloss:0.348133\tvalidation_0-auc:0.956721\tvalidation_1-error:0.107769\tvalidation_1-logloss:0.370521\tvalidation_1-auc:0.937905\n",
            "[163]\tvalidation_0-error:0.094671\tvalidation_0-logloss:0.347886\tvalidation_0-auc:0.956639\tvalidation_1-error:0.107769\tvalidation_1-logloss:0.370265\tvalidation_1-auc:0.937905\n",
            "[164]\tvalidation_0-error:0.094044\tvalidation_0-logloss:0.346494\tvalidation_0-auc:0.956742\tvalidation_1-error:0.105263\tvalidation_1-logloss:0.369061\tvalidation_1-auc:0.937934\n",
            "[165]\tvalidation_0-error:0.094671\tvalidation_0-logloss:0.346438\tvalidation_0-auc:0.956742\tvalidation_1-error:0.107769\tvalidation_1-logloss:0.368994\tvalidation_1-auc:0.937934\n",
            "[166]\tvalidation_0-error:0.094044\tvalidation_0-logloss:0.346301\tvalidation_0-auc:0.956785\tvalidation_1-error:0.107769\tvalidation_1-logloss:0.368877\tvalidation_1-auc:0.937876\n",
            "[167]\tvalidation_0-error:0.094044\tvalidation_0-logloss:0.345129\tvalidation_0-auc:0.956783\tvalidation_1-error:0.105263\tvalidation_1-logloss:0.36786\tvalidation_1-auc:0.937876\n",
            "[168]\tvalidation_0-error:0.093417\tvalidation_0-logloss:0.343852\tvalidation_0-auc:0.956867\tvalidation_1-error:0.105263\tvalidation_1-logloss:0.366707\tvalidation_1-auc:0.937905\n",
            "[169]\tvalidation_0-error:0.093417\tvalidation_0-logloss:0.342544\tvalidation_0-auc:0.95691\tvalidation_1-error:0.105263\tvalidation_1-logloss:0.36551\tvalidation_1-auc:0.938021\n",
            "[170]\tvalidation_0-error:0.094044\tvalidation_0-logloss:0.341402\tvalidation_0-auc:0.956928\tvalidation_1-error:0.105263\tvalidation_1-logloss:0.364515\tvalidation_1-auc:0.937992\n",
            "[171]\tvalidation_0-error:0.094044\tvalidation_0-logloss:0.340135\tvalidation_0-auc:0.956989\tvalidation_1-error:0.105263\tvalidation_1-logloss:0.363397\tvalidation_1-auc:0.93805\n",
            "[172]\tvalidation_0-error:0.094044\tvalidation_0-logloss:0.338876\tvalidation_0-auc:0.957001\tvalidation_1-error:0.105263\tvalidation_1-logloss:0.362274\tvalidation_1-auc:0.938137\n",
            "[173]\tvalidation_0-error:0.094044\tvalidation_0-logloss:0.338758\tvalidation_0-auc:0.956968\tvalidation_1-error:0.105263\tvalidation_1-logloss:0.362192\tvalidation_1-auc:0.938137\n",
            "[174]\tvalidation_0-error:0.094044\tvalidation_0-logloss:0.338519\tvalidation_0-auc:0.956993\tvalidation_1-error:0.105263\tvalidation_1-logloss:0.361919\tvalidation_1-auc:0.938021\n",
            "[175]\tvalidation_0-error:0.094044\tvalidation_0-logloss:0.338389\tvalidation_0-auc:0.956925\tvalidation_1-error:0.105263\tvalidation_1-logloss:0.361796\tvalidation_1-auc:0.938021\n",
            "[176]\tvalidation_0-error:0.094044\tvalidation_0-logloss:0.338317\tvalidation_0-auc:0.956925\tvalidation_1-error:0.105263\tvalidation_1-logloss:0.361709\tvalidation_1-auc:0.938021\n",
            "[177]\tvalidation_0-error:0.093417\tvalidation_0-logloss:0.338263\tvalidation_0-auc:0.956925\tvalidation_1-error:0.105263\tvalidation_1-logloss:0.361643\tvalidation_1-auc:0.938021\n",
            "[178]\tvalidation_0-error:0.093417\tvalidation_0-logloss:0.337055\tvalidation_0-auc:0.956984\tvalidation_1-error:0.105263\tvalidation_1-logloss:0.360583\tvalidation_1-auc:0.937992\n",
            "[179]\tvalidation_0-error:0.093417\tvalidation_0-logloss:0.336938\tvalidation_0-auc:0.95711\tvalidation_1-error:0.105263\tvalidation_1-logloss:0.360463\tvalidation_1-auc:0.938021\n",
            "[180]\tvalidation_0-error:0.093417\tvalidation_0-logloss:0.336909\tvalidation_0-auc:0.95711\tvalidation_1-error:0.105263\tvalidation_1-logloss:0.360427\tvalidation_1-auc:0.938021\n",
            "[181]\tvalidation_0-error:0.094044\tvalidation_0-logloss:0.335807\tvalidation_0-auc:0.957111\tvalidation_1-error:0.105263\tvalidation_1-logloss:0.35947\tvalidation_1-auc:0.938021\n",
            "[182]\tvalidation_0-error:0.094044\tvalidation_0-logloss:0.334755\tvalidation_0-auc:0.957092\tvalidation_1-error:0.105263\tvalidation_1-logloss:0.358555\tvalidation_1-auc:0.937963\n",
            "[183]\tvalidation_0-error:0.093417\tvalidation_0-logloss:0.333569\tvalidation_0-auc:0.957172\tvalidation_1-error:0.105263\tvalidation_1-logloss:0.35754\tvalidation_1-auc:0.93805\n",
            "[184]\tvalidation_0-error:0.093417\tvalidation_0-logloss:0.332505\tvalidation_0-auc:0.957254\tvalidation_1-error:0.102757\tvalidation_1-logloss:0.35661\tvalidation_1-auc:0.93805\n",
            "[185]\tvalidation_0-error:0.094044\tvalidation_0-logloss:0.331459\tvalidation_0-auc:0.957253\tvalidation_1-error:0.102757\tvalidation_1-logloss:0.355705\tvalidation_1-auc:0.93805\n",
            "[186]\tvalidation_0-error:0.094044\tvalidation_0-logloss:0.330336\tvalidation_0-auc:0.95731\tvalidation_1-error:0.102757\tvalidation_1-logloss:0.354758\tvalidation_1-auc:0.93805\n",
            "[187]\tvalidation_0-error:0.094044\tvalidation_0-logloss:0.330286\tvalidation_0-auc:0.95731\tvalidation_1-error:0.102757\tvalidation_1-logloss:0.354696\tvalidation_1-auc:0.93805\n",
            "[188]\tvalidation_0-error:0.094044\tvalidation_0-logloss:0.330059\tvalidation_0-auc:0.957347\tvalidation_1-error:0.102757\tvalidation_1-logloss:0.354466\tvalidation_1-auc:0.938108\n",
            "[189]\tvalidation_0-error:0.093417\tvalidation_0-logloss:0.328976\tvalidation_0-auc:0.957351\tvalidation_1-error:0.102757\tvalidation_1-logloss:0.353555\tvalidation_1-auc:0.938108\n",
            "[190]\tvalidation_0-error:0.093417\tvalidation_0-logloss:0.327851\tvalidation_0-auc:0.957483\tvalidation_1-error:0.102757\tvalidation_1-logloss:0.352594\tvalidation_1-auc:0.93805\n",
            "[191]\tvalidation_0-error:0.094671\tvalidation_0-logloss:0.326873\tvalidation_0-auc:0.957476\tvalidation_1-error:0.102757\tvalidation_1-logloss:0.351727\tvalidation_1-auc:0.93805\n",
            "[192]\tvalidation_0-error:0.094671\tvalidation_0-logloss:0.325748\tvalidation_0-auc:0.957506\tvalidation_1-error:0.102757\tvalidation_1-logloss:0.350696\tvalidation_1-auc:0.93805\n",
            "[193]\tvalidation_0-error:0.094044\tvalidation_0-logloss:0.325712\tvalidation_0-auc:0.957506\tvalidation_1-error:0.102757\tvalidation_1-logloss:0.350652\tvalidation_1-auc:0.93805\n",
            "[194]\tvalidation_0-error:0.094044\tvalidation_0-logloss:0.324532\tvalidation_0-auc:0.957702\tvalidation_1-error:0.102757\tvalidation_1-logloss:0.349713\tvalidation_1-auc:0.93805\n",
            "[195]\tvalidation_0-error:0.094044\tvalidation_0-logloss:0.324507\tvalidation_0-auc:0.957702\tvalidation_1-error:0.102757\tvalidation_1-logloss:0.349682\tvalidation_1-auc:0.93805\n",
            "[196]\tvalidation_0-error:0.094044\tvalidation_0-logloss:0.323431\tvalidation_0-auc:0.957734\tvalidation_1-error:0.102757\tvalidation_1-logloss:0.348736\tvalidation_1-auc:0.937963\n",
            "[197]\tvalidation_0-error:0.094044\tvalidation_0-logloss:0.323395\tvalidation_0-auc:0.957734\tvalidation_1-error:0.102757\tvalidation_1-logloss:0.348691\tvalidation_1-auc:0.937963\n",
            "[198]\tvalidation_0-error:0.094044\tvalidation_0-logloss:0.322478\tvalidation_0-auc:0.957715\tvalidation_1-error:0.102757\tvalidation_1-logloss:0.347867\tvalidation_1-auc:0.937934\n",
            "[199]\tvalidation_0-error:0.094044\tvalidation_0-logloss:0.321541\tvalidation_0-auc:0.957684\tvalidation_1-error:0.102757\tvalidation_1-logloss:0.347022\tvalidation_1-auc:0.937992\n",
            "[200]\tvalidation_0-error:0.094044\tvalidation_0-logloss:0.320494\tvalidation_0-auc:0.95774\tvalidation_1-error:0.102757\tvalidation_1-logloss:0.346094\tvalidation_1-auc:0.938021\n",
            "[201]\tvalidation_0-error:0.094671\tvalidation_0-logloss:0.319667\tvalidation_0-auc:0.957718\tvalidation_1-error:0.105263\tvalidation_1-logloss:0.345345\tvalidation_1-auc:0.937963\n",
            "[202]\tvalidation_0-error:0.093417\tvalidation_0-logloss:0.318786\tvalidation_0-auc:0.95772\tvalidation_1-error:0.102757\tvalidation_1-logloss:0.344609\tvalidation_1-auc:0.937963\n",
            "[203]\tvalidation_0-error:0.093417\tvalidation_0-logloss:0.318766\tvalidation_0-auc:0.95772\tvalidation_1-error:0.102757\tvalidation_1-logloss:0.344584\tvalidation_1-auc:0.937963\n",
            "[204]\tvalidation_0-error:0.094044\tvalidation_0-logloss:0.317816\tvalidation_0-auc:0.957706\tvalidation_1-error:0.105263\tvalidation_1-logloss:0.34376\tvalidation_1-auc:0.937963\n",
            "[205]\tvalidation_0-error:0.093417\tvalidation_0-logloss:0.316793\tvalidation_0-auc:0.957757\tvalidation_1-error:0.105263\tvalidation_1-logloss:0.342819\tvalidation_1-auc:0.938137\n",
            "[206]\tvalidation_0-error:0.094044\tvalidation_0-logloss:0.316745\tvalidation_0-auc:0.957757\tvalidation_1-error:0.105263\tvalidation_1-logloss:0.342757\tvalidation_1-auc:0.938137\n",
            "[207]\tvalidation_0-error:0.093417\tvalidation_0-logloss:0.316706\tvalidation_0-auc:0.957757\tvalidation_1-error:0.105263\tvalidation_1-logloss:0.342707\tvalidation_1-auc:0.938137\n",
            "[208]\tvalidation_0-error:0.094044\tvalidation_0-logloss:0.315744\tvalidation_0-auc:0.957824\tvalidation_1-error:0.105263\tvalidation_1-logloss:0.341869\tvalidation_1-auc:0.938195\n",
            "[209]\tvalidation_0-error:0.093417\tvalidation_0-logloss:0.315705\tvalidation_0-auc:0.957824\tvalidation_1-error:0.105263\tvalidation_1-logloss:0.341819\tvalidation_1-auc:0.938195\n",
            "[210]\tvalidation_0-error:0.093417\tvalidation_0-logloss:0.31567\tvalidation_0-auc:0.957824\tvalidation_1-error:0.105263\tvalidation_1-logloss:0.341773\tvalidation_1-auc:0.938195\n",
            "[211]\tvalidation_0-error:0.093417\tvalidation_0-logloss:0.314874\tvalidation_0-auc:0.957816\tvalidation_1-error:0.105263\tvalidation_1-logloss:0.341073\tvalidation_1-auc:0.938195\n",
            "[212]\tvalidation_0-error:0.093417\tvalidation_0-logloss:0.313829\tvalidation_0-auc:0.957967\tvalidation_1-error:0.105263\tvalidation_1-logloss:0.340154\tvalidation_1-auc:0.938195\n",
            "[213]\tvalidation_0-error:0.093417\tvalidation_0-logloss:0.313792\tvalidation_0-auc:0.957967\tvalidation_1-error:0.105263\tvalidation_1-logloss:0.340105\tvalidation_1-auc:0.938195\n",
            "[214]\tvalidation_0-error:0.093417\tvalidation_0-logloss:0.312824\tvalidation_0-auc:0.958002\tvalidation_1-error:0.105263\tvalidation_1-logloss:0.339268\tvalidation_1-auc:0.938137\n",
            "[215]\tvalidation_0-error:0.093417\tvalidation_0-logloss:0.311893\tvalidation_0-auc:0.958036\tvalidation_1-error:0.105263\tvalidation_1-logloss:0.338442\tvalidation_1-auc:0.938108\n",
            "[216]\tvalidation_0-error:0.093417\tvalidation_0-logloss:0.31187\tvalidation_0-auc:0.958036\tvalidation_1-error:0.105263\tvalidation_1-logloss:0.338411\tvalidation_1-auc:0.938108\n",
            "[217]\tvalidation_0-error:0.093417\tvalidation_0-logloss:0.311844\tvalidation_0-auc:0.958036\tvalidation_1-error:0.105263\tvalidation_1-logloss:0.338376\tvalidation_1-auc:0.938108\n",
            "[218]\tvalidation_0-error:0.093417\tvalidation_0-logloss:0.311824\tvalidation_0-auc:0.958036\tvalidation_1-error:0.105263\tvalidation_1-logloss:0.33835\tvalidation_1-auc:0.938108\n",
            "[219]\tvalidation_0-error:0.093417\tvalidation_0-logloss:0.310884\tvalidation_0-auc:0.958108\tvalidation_1-error:0.105263\tvalidation_1-logloss:0.337522\tvalidation_1-auc:0.938079\n",
            "[220]\tvalidation_0-error:0.094044\tvalidation_0-logloss:0.310847\tvalidation_0-auc:0.958108\tvalidation_1-error:0.105263\tvalidation_1-logloss:0.337472\tvalidation_1-auc:0.938079\n",
            "[221]\tvalidation_0-error:0.093417\tvalidation_0-logloss:0.309864\tvalidation_0-auc:0.958127\tvalidation_1-error:0.105263\tvalidation_1-logloss:0.336619\tvalidation_1-auc:0.938079\n",
            "[222]\tvalidation_0-error:0.093417\tvalidation_0-logloss:0.30903\tvalidation_0-auc:0.95814\tvalidation_1-error:0.105263\tvalidation_1-logloss:0.335909\tvalidation_1-auc:0.938079\n",
            "[223]\tvalidation_0-error:0.093417\tvalidation_0-logloss:0.308166\tvalidation_0-auc:0.958249\tvalidation_1-error:0.105263\tvalidation_1-logloss:0.33521\tvalidation_1-auc:0.937992\n",
            "[224]\tvalidation_0-error:0.093417\tvalidation_0-logloss:0.30815\tvalidation_0-auc:0.958249\tvalidation_1-error:0.105263\tvalidation_1-logloss:0.335188\tvalidation_1-auc:0.937992\n",
            "[225]\tvalidation_0-error:0.093417\tvalidation_0-logloss:0.307254\tvalidation_0-auc:0.958349\tvalidation_1-error:0.105263\tvalidation_1-logloss:0.334413\tvalidation_1-auc:0.938079\n",
            "[226]\tvalidation_0-error:0.093417\tvalidation_0-logloss:0.307238\tvalidation_0-auc:0.958349\tvalidation_1-error:0.105263\tvalidation_1-logloss:0.334392\tvalidation_1-auc:0.938079\n",
            "[227]\tvalidation_0-error:0.093417\tvalidation_0-logloss:0.306338\tvalidation_0-auc:0.958362\tvalidation_1-error:0.105263\tvalidation_1-logloss:0.333611\tvalidation_1-auc:0.938108\n",
            "[228]\tvalidation_0-error:0.093417\tvalidation_0-logloss:0.306331\tvalidation_0-auc:0.958362\tvalidation_1-error:0.105263\tvalidation_1-logloss:0.333602\tvalidation_1-auc:0.938108\n",
            "[229]\tvalidation_0-error:0.093417\tvalidation_0-logloss:0.306311\tvalidation_0-auc:0.958362\tvalidation_1-error:0.105263\tvalidation_1-logloss:0.333574\tvalidation_1-auc:0.938108\n",
            "[230]\tvalidation_0-error:0.093417\tvalidation_0-logloss:0.306287\tvalidation_0-auc:0.958362\tvalidation_1-error:0.105263\tvalidation_1-logloss:0.333542\tvalidation_1-auc:0.938108\n",
            "[231]\tvalidation_0-error:0.093417\tvalidation_0-logloss:0.305421\tvalidation_0-auc:0.958445\tvalidation_1-error:0.105263\tvalidation_1-logloss:0.332776\tvalidation_1-auc:0.938137\n",
            "[232]\tvalidation_0-error:0.093417\tvalidation_0-logloss:0.305392\tvalidation_0-auc:0.958445\tvalidation_1-error:0.105263\tvalidation_1-logloss:0.332735\tvalidation_1-auc:0.938137\n",
            "[233]\tvalidation_0-error:0.093417\tvalidation_0-logloss:0.305364\tvalidation_0-auc:0.958445\tvalidation_1-error:0.105263\tvalidation_1-logloss:0.332697\tvalidation_1-auc:0.938137\n",
            "[234]\tvalidation_0-error:0.093417\tvalidation_0-logloss:0.305349\tvalidation_0-auc:0.958445\tvalidation_1-error:0.105263\tvalidation_1-logloss:0.332677\tvalidation_1-auc:0.938137\n",
            "[235]\tvalidation_0-error:0.093417\tvalidation_0-logloss:0.304433\tvalidation_0-auc:0.958517\tvalidation_1-error:0.105263\tvalidation_1-logloss:0.331875\tvalidation_1-auc:0.938224\n",
            "[236]\tvalidation_0-error:0.093417\tvalidation_0-logloss:0.30363\tvalidation_0-auc:0.958522\tvalidation_1-error:0.105263\tvalidation_1-logloss:0.331157\tvalidation_1-auc:0.938224\n",
            "[237]\tvalidation_0-error:0.093417\tvalidation_0-logloss:0.302923\tvalidation_0-auc:0.958506\tvalidation_1-error:0.105263\tvalidation_1-logloss:0.330563\tvalidation_1-auc:0.938224\n",
            "[238]\tvalidation_0-error:0.093417\tvalidation_0-logloss:0.302904\tvalidation_0-auc:0.958506\tvalidation_1-error:0.105263\tvalidation_1-logloss:0.330537\tvalidation_1-auc:0.938224\n",
            "[239]\tvalidation_0-error:0.093417\tvalidation_0-logloss:0.302081\tvalidation_0-auc:0.958533\tvalidation_1-error:0.105263\tvalidation_1-logloss:0.329859\tvalidation_1-auc:0.938166\n",
            "[240]\tvalidation_0-error:0.093417\tvalidation_0-logloss:0.301284\tvalidation_0-auc:0.958606\tvalidation_1-error:0.105263\tvalidation_1-logloss:0.329207\tvalidation_1-auc:0.938195\n",
            "[241]\tvalidation_0-error:0.093417\tvalidation_0-logloss:0.301094\tvalidation_0-auc:0.958705\tvalidation_1-error:0.105263\tvalidation_1-logloss:0.329055\tvalidation_1-auc:0.93805\n",
            "[242]\tvalidation_0-error:0.093417\tvalidation_0-logloss:0.300449\tvalidation_0-auc:0.958705\tvalidation_1-error:0.105263\tvalidation_1-logloss:0.328536\tvalidation_1-auc:0.93805\n",
            "[243]\tvalidation_0-error:0.093417\tvalidation_0-logloss:0.30044\tvalidation_0-auc:0.958705\tvalidation_1-error:0.105263\tvalidation_1-logloss:0.328524\tvalidation_1-auc:0.93805\n",
            "[244]\tvalidation_0-error:0.093417\tvalidation_0-logloss:0.300427\tvalidation_0-auc:0.958705\tvalidation_1-error:0.105263\tvalidation_1-logloss:0.328505\tvalidation_1-auc:0.93805\n",
            "[245]\tvalidation_0-error:0.093417\tvalidation_0-logloss:0.299791\tvalidation_0-auc:0.958706\tvalidation_1-error:0.105263\tvalidation_1-logloss:0.327961\tvalidation_1-auc:0.93805\n",
            "[246]\tvalidation_0-error:0.093417\tvalidation_0-logloss:0.299611\tvalidation_0-auc:0.958958\tvalidation_1-error:0.105263\tvalidation_1-logloss:0.327849\tvalidation_1-auc:0.938137\n",
            "[247]\tvalidation_0-error:0.09279\tvalidation_0-logloss:0.298912\tvalidation_0-auc:0.95896\tvalidation_1-error:0.105263\tvalidation_1-logloss:0.327258\tvalidation_1-auc:0.938224\n",
            "[248]\tvalidation_0-error:0.09279\tvalidation_0-logloss:0.298895\tvalidation_0-auc:0.95896\tvalidation_1-error:0.105263\tvalidation_1-logloss:0.327234\tvalidation_1-auc:0.938224\n",
            "[249]\tvalidation_0-error:0.09279\tvalidation_0-logloss:0.298288\tvalidation_0-auc:0.958941\tvalidation_1-error:0.102757\tvalidation_1-logloss:0.326699\tvalidation_1-auc:0.938195\n",
            "[250]\tvalidation_0-error:0.091536\tvalidation_0-logloss:0.297616\tvalidation_0-auc:0.958941\tvalidation_1-error:0.102757\tvalidation_1-logloss:0.326149\tvalidation_1-auc:0.938282\n",
            "[251]\tvalidation_0-error:0.090282\tvalidation_0-logloss:0.296966\tvalidation_0-auc:0.958946\tvalidation_1-error:0.102757\tvalidation_1-logloss:0.325609\tvalidation_1-auc:0.93834\n",
            "[252]\tvalidation_0-error:0.090282\tvalidation_0-logloss:0.296206\tvalidation_0-auc:0.959003\tvalidation_1-error:0.102757\tvalidation_1-logloss:0.324961\tvalidation_1-auc:0.938311\n",
            "[253]\tvalidation_0-error:0.090282\tvalidation_0-logloss:0.295425\tvalidation_0-auc:0.959023\tvalidation_1-error:0.102757\tvalidation_1-logloss:0.32428\tvalidation_1-auc:0.938311\n",
            "[254]\tvalidation_0-error:0.091536\tvalidation_0-logloss:0.294603\tvalidation_0-auc:0.959175\tvalidation_1-error:0.102757\tvalidation_1-logloss:0.323692\tvalidation_1-auc:0.938455\n",
            "[255]\tvalidation_0-error:0.091536\tvalidation_0-logloss:0.294596\tvalidation_0-auc:0.959175\tvalidation_1-error:0.102757\tvalidation_1-logloss:0.323682\tvalidation_1-auc:0.938455\n",
            "[256]\tvalidation_0-error:0.090282\tvalidation_0-logloss:0.294001\tvalidation_0-auc:0.959166\tvalidation_1-error:0.102757\tvalidation_1-logloss:0.323146\tvalidation_1-auc:0.938455\n",
            "[257]\tvalidation_0-error:0.090282\tvalidation_0-logloss:0.293362\tvalidation_0-auc:0.959187\tvalidation_1-error:0.102757\tvalidation_1-logloss:0.322627\tvalidation_1-auc:0.938455\n",
            "[258]\tvalidation_0-error:0.090282\tvalidation_0-logloss:0.292636\tvalidation_0-auc:0.959221\tvalidation_1-error:0.102757\tvalidation_1-logloss:0.32202\tvalidation_1-auc:0.938455\n",
            "[259]\tvalidation_0-error:0.090282\tvalidation_0-logloss:0.292629\tvalidation_0-auc:0.959221\tvalidation_1-error:0.102757\tvalidation_1-logloss:0.32201\tvalidation_1-auc:0.938455\n",
            "[260]\tvalidation_0-error:0.090282\tvalidation_0-logloss:0.292623\tvalidation_0-auc:0.959221\tvalidation_1-error:0.102757\tvalidation_1-logloss:0.322001\tvalidation_1-auc:0.938455\n",
            "[261]\tvalidation_0-error:0.090282\tvalidation_0-logloss:0.292623\tvalidation_0-auc:0.959221\tvalidation_1-error:0.102757\tvalidation_1-logloss:0.322001\tvalidation_1-auc:0.938455\n",
            "[262]\tvalidation_0-error:0.090282\tvalidation_0-logloss:0.292048\tvalidation_0-auc:0.959218\tvalidation_1-error:0.102757\tvalidation_1-logloss:0.321544\tvalidation_1-auc:0.938455\n",
            "[263]\tvalidation_0-error:0.092163\tvalidation_0-logloss:0.291481\tvalidation_0-auc:0.959218\tvalidation_1-error:0.102757\tvalidation_1-logloss:0.3211\tvalidation_1-auc:0.938455\n",
            "[264]\tvalidation_0-error:0.092163\tvalidation_0-logloss:0.291462\tvalidation_0-auc:0.959218\tvalidation_1-error:0.102757\tvalidation_1-logloss:0.321072\tvalidation_1-auc:0.938455\n",
            "[265]\tvalidation_0-error:0.090909\tvalidation_0-logloss:0.291451\tvalidation_0-auc:0.959218\tvalidation_1-error:0.102757\tvalidation_1-logloss:0.321056\tvalidation_1-auc:0.938455\n",
            "[266]\tvalidation_0-error:0.092163\tvalidation_0-logloss:0.290901\tvalidation_0-auc:0.959212\tvalidation_1-error:0.102757\tvalidation_1-logloss:0.320613\tvalidation_1-auc:0.938455\n",
            "[267]\tvalidation_0-error:0.092163\tvalidation_0-logloss:0.290818\tvalidation_0-auc:0.959187\tvalidation_1-error:0.100251\tvalidation_1-logloss:0.320502\tvalidation_1-auc:0.938426\n",
            "[268]\tvalidation_0-error:0.091536\tvalidation_0-logloss:0.290809\tvalidation_0-auc:0.959187\tvalidation_1-error:0.100251\tvalidation_1-logloss:0.320488\tvalidation_1-auc:0.938426\n",
            "[269]\tvalidation_0-error:0.091536\tvalidation_0-logloss:0.290798\tvalidation_0-auc:0.959187\tvalidation_1-error:0.100251\tvalidation_1-logloss:0.320472\tvalidation_1-auc:0.938426\n",
            "[270]\tvalidation_0-error:0.091536\tvalidation_0-logloss:0.290787\tvalidation_0-auc:0.959187\tvalidation_1-error:0.102757\tvalidation_1-logloss:0.320454\tvalidation_1-auc:0.938426\n",
            "[271]\tvalidation_0-error:0.090909\tvalidation_0-logloss:0.290681\tvalidation_0-auc:0.959362\tvalidation_1-error:0.100251\tvalidation_1-logloss:0.320413\tvalidation_1-auc:0.9386\n",
            "[272]\tvalidation_0-error:0.090909\tvalidation_0-logloss:0.28995\tvalidation_0-auc:0.959495\tvalidation_1-error:0.100251\tvalidation_1-logloss:0.319717\tvalidation_1-auc:0.938716\n",
            "[273]\tvalidation_0-error:0.090909\tvalidation_0-logloss:0.289416\tvalidation_0-auc:0.959489\tvalidation_1-error:0.100251\tvalidation_1-logloss:0.319237\tvalidation_1-auc:0.938716\n",
            "[274]\tvalidation_0-error:0.090909\tvalidation_0-logloss:0.289404\tvalidation_0-auc:0.959489\tvalidation_1-error:0.100251\tvalidation_1-logloss:0.31922\tvalidation_1-auc:0.938716\n",
            "[275]\tvalidation_0-error:0.090909\tvalidation_0-logloss:0.288697\tvalidation_0-auc:0.959496\tvalidation_1-error:0.102757\tvalidation_1-logloss:0.318632\tvalidation_1-auc:0.938687\n",
            "[276]\tvalidation_0-error:0.090909\tvalidation_0-logloss:0.288123\tvalidation_0-auc:0.959495\tvalidation_1-error:0.100251\tvalidation_1-logloss:0.31817\tvalidation_1-auc:0.938687\n",
            "[277]\tvalidation_0-error:0.090909\tvalidation_0-logloss:0.287605\tvalidation_0-auc:0.959487\tvalidation_1-error:0.100251\tvalidation_1-logloss:0.317743\tvalidation_1-auc:0.938687\n",
            "[278]\tvalidation_0-error:0.090909\tvalidation_0-logloss:0.287097\tvalidation_0-auc:0.959529\tvalidation_1-error:0.102757\tvalidation_1-logloss:0.317267\tvalidation_1-auc:0.938687\n",
            "[279]\tvalidation_0-error:0.090909\tvalidation_0-logloss:0.287089\tvalidation_0-auc:0.959529\tvalidation_1-error:0.102757\tvalidation_1-logloss:0.317256\tvalidation_1-auc:0.938687\n",
            "[280]\tvalidation_0-error:0.090909\tvalidation_0-logloss:0.286558\tvalidation_0-auc:0.959529\tvalidation_1-error:0.102757\tvalidation_1-logloss:0.316853\tvalidation_1-auc:0.938687\n",
            "[281]\tvalidation_0-error:0.090909\tvalidation_0-logloss:0.285941\tvalidation_0-auc:0.959623\tvalidation_1-error:0.102757\tvalidation_1-logloss:0.316324\tvalidation_1-auc:0.938774\n",
            "[282]\tvalidation_0-error:0.090909\tvalidation_0-logloss:0.285928\tvalidation_0-auc:0.959623\tvalidation_1-error:0.102757\tvalidation_1-logloss:0.316303\tvalidation_1-auc:0.938774\n",
            "[283]\tvalidation_0-error:0.090909\tvalidation_0-logloss:0.285413\tvalidation_0-auc:0.95962\tvalidation_1-error:0.102757\tvalidation_1-logloss:0.315881\tvalidation_1-auc:0.938774\n",
            "[284]\tvalidation_0-error:0.090909\tvalidation_0-logloss:0.284865\tvalidation_0-auc:0.959616\tvalidation_1-error:0.102757\tvalidation_1-logloss:0.315446\tvalidation_1-auc:0.938774\n",
            "[285]\tvalidation_0-error:0.090909\tvalidation_0-logloss:0.284359\tvalidation_0-auc:0.959616\tvalidation_1-error:0.102757\tvalidation_1-logloss:0.314999\tvalidation_1-auc:0.938774\n",
            "[286]\tvalidation_0-error:0.091536\tvalidation_0-logloss:0.284344\tvalidation_0-auc:0.959616\tvalidation_1-error:0.102757\tvalidation_1-logloss:0.314975\tvalidation_1-auc:0.938774\n",
            "[287]\tvalidation_0-error:0.091536\tvalidation_0-logloss:0.284339\tvalidation_0-auc:0.959616\tvalidation_1-error:0.102757\tvalidation_1-logloss:0.314966\tvalidation_1-auc:0.938774\n",
            "[288]\tvalidation_0-error:0.091536\tvalidation_0-logloss:0.284331\tvalidation_0-auc:0.959616\tvalidation_1-error:0.102757\tvalidation_1-logloss:0.314953\tvalidation_1-auc:0.938774\n",
            "[289]\tvalidation_0-error:0.092163\tvalidation_0-logloss:0.283802\tvalidation_0-auc:0.959612\tvalidation_1-error:0.102757\tvalidation_1-logloss:0.314485\tvalidation_1-auc:0.938774\n",
            "[290]\tvalidation_0-error:0.092163\tvalidation_0-logloss:0.283791\tvalidation_0-auc:0.959612\tvalidation_1-error:0.102757\tvalidation_1-logloss:0.314467\tvalidation_1-auc:0.938774\n",
            "[291]\tvalidation_0-error:0.091536\tvalidation_0-logloss:0.283064\tvalidation_0-auc:0.959736\tvalidation_1-error:0.102757\tvalidation_1-logloss:0.313916\tvalidation_1-auc:0.938861\n",
            "[292]\tvalidation_0-error:0.092163\tvalidation_0-logloss:0.28258\tvalidation_0-auc:0.959757\tvalidation_1-error:0.102757\tvalidation_1-logloss:0.313476\tvalidation_1-auc:0.93889\n",
            "[293]\tvalidation_0-error:0.092163\tvalidation_0-logloss:0.28258\tvalidation_0-auc:0.959757\tvalidation_1-error:0.102757\tvalidation_1-logloss:0.313476\tvalidation_1-auc:0.93889\n",
            "[294]\tvalidation_0-error:0.092163\tvalidation_0-logloss:0.281998\tvalidation_0-auc:0.959832\tvalidation_1-error:0.102757\tvalidation_1-logloss:0.312988\tvalidation_1-auc:0.938918\n",
            "[295]\tvalidation_0-error:0.092163\tvalidation_0-logloss:0.281993\tvalidation_0-auc:0.959832\tvalidation_1-error:0.102757\tvalidation_1-logloss:0.31298\tvalidation_1-auc:0.938918\n",
            "[296]\tvalidation_0-error:0.092163\tvalidation_0-logloss:0.281981\tvalidation_0-auc:0.959832\tvalidation_1-error:0.102757\tvalidation_1-logloss:0.312961\tvalidation_1-auc:0.938918\n",
            "[297]\tvalidation_0-error:0.092163\tvalidation_0-logloss:0.281527\tvalidation_0-auc:0.959827\tvalidation_1-error:0.102757\tvalidation_1-logloss:0.312592\tvalidation_1-auc:0.938918\n",
            "[298]\tvalidation_0-error:0.092163\tvalidation_0-logloss:0.281081\tvalidation_0-auc:0.959825\tvalidation_1-error:0.102757\tvalidation_1-logloss:0.312229\tvalidation_1-auc:0.93889\n",
            "[299]\tvalidation_0-error:0.092163\tvalidation_0-logloss:0.280455\tvalidation_0-auc:0.959906\tvalidation_1-error:0.102757\tvalidation_1-logloss:0.311703\tvalidation_1-auc:0.938918\n"
          ]
        },
        {
          "output_type": "execute_result",
          "data": {
            "text/plain": [
              "XGBClassifier(colsample_bytree=0.6, gamma=10, learning_rate=0.01,\n",
              "              n_estimators=300, random_state=42, reg_alpha=0.9, reg_lambda=10,\n",
              "              silent=False, subsample=0.6)"
            ]
          },
          "metadata": {},
          "execution_count": 134
        }
      ]
    },
    {
      "cell_type": "code",
      "source": [
        "from numpy import loadtxt\n",
        "from xgboost import XGBClassifier\n",
        "from sklearn.model_selection import train_test_split\n",
        "from sklearn.metrics import accuracy_score\n",
        "from matplotlib import pyplot\n",
        "\n",
        "# make predictions for test data\n",
        "y_pred = model.predict(X_test)\n",
        "predictions = [round(value) for value in y_pred]\n",
        "# evaluate predictions\n",
        "accuracy = accuracy_score(y_test, predictions)\n",
        "print(\"Accuracy: %.2f%%\" % (accuracy * 100.0))\n",
        "# retrieve performance metrics\n",
        "results = model.evals_result()\n",
        "epochs = len(results['validation_0']['error'])\n",
        "x_axis = range(0, epochs)\n",
        "# plot log loss\n",
        "fig, ax = pyplot.subplots()\n",
        "ax.plot(x_axis, results['validation_0']['logloss'], label='Train')\n",
        "ax.plot(x_axis, results['validation_1']['logloss'], label='Test')\n",
        "ax.legend()\n",
        "pyplot.ylabel('Log Loss')\n",
        "pyplot.title('XGBoost Log Loss')\n",
        "pyplot.show()\n",
        "# plot classification error\n",
        "fig, ax = pyplot.subplots()\n",
        "ax.plot(x_axis, results['validation_0']['error'], label='Train')\n",
        "ax.plot(x_axis, results['validation_1']['error'], label='Test')\n",
        "ax.legend()\n",
        "pyplot.ylabel('Classification Error')\n",
        "pyplot.title('XGBoost Classification Error')\n",
        "pyplot.show()"
      ],
      "metadata": {
        "colab": {
          "base_uri": "https://localhost:8080/",
          "height": 563
        },
        "id": "Wjx809U0U2dC",
        "outputId": "b3ef8621-62c0-45ef-8b88-25c2ac45ddbf"
      },
      "execution_count": null,
      "outputs": [
        {
          "output_type": "stream",
          "name": "stdout",
          "text": [
            "Accuracy: 89.72%\n"
          ]
        },
        {
          "output_type": "display_data",
          "data": {
            "text/plain": [
              "<Figure size 432x288 with 1 Axes>"
            ],
            "image/png": "[encoded data removed]"
          },
          "metadata": {
            "needs_background": "light"
          }
        },
        {
          "output_type": "display_data",
          "data": {
            "text/plain": [
              "<Figure size 432x288 with 1 Axes>"
            ],
            "image/png": "[encoded data removed]"
          },
          "metadata": {
            "needs_background": "light"
          }
        }
      ]
    },
    {
      "cell_type": "code",
      "source": [
        "y_pred"
      ],
      "metadata": {
        "colab": {
          "base_uri": "https://localhost:8080/"
        },
        "id": "JxqUr22gY_L8",
        "outputId": "7396554e-3b42-446d-beb6-1899de320a74"
      },
      "execution_count": null,
      "outputs": [
        {
          "output_type": "execute_result",
          "data": {
            "text/plain": [
              "array([1, 0, 0, 1, 0, 0, 1, 0, 0, 0, 0, 1, 1, 1, 1, 0, 1, 0, 1, 1, 1, 0,\n",
              "       1, 1, 1, 1, 0, 1, 1, 1, 1, 1, 1, 1, 0, 0, 1, 1, 0, 1, 0, 0, 0, 1,\n",
              "       0, 1, 1, 0, 1, 0, 0, 1, 0, 1, 1, 1, 1, 1, 1, 1, 1, 0, 1, 1, 1, 1,\n",
              "       0, 1, 1, 1, 0, 1, 1, 0, 1, 1, 1, 0, 1, 1, 0, 0, 0, 1, 1, 1, 0, 1,\n",
              "       0, 1, 1, 1, 1, 1, 1, 1, 1, 1, 1, 0, 1, 1, 1, 1, 1, 1, 0, 1, 0, 1,\n",
              "       1, 1, 1, 0, 0, 0, 1, 1, 1, 0, 0, 0, 0, 0, 0, 1, 1, 1, 0, 1, 0, 1,\n",
              "       1, 0, 0, 0, 1, 1, 1, 0, 1, 1, 1, 0, 1, 1, 1, 0, 0, 1, 1, 1, 1, 1,\n",
              "       1, 0, 1, 1, 1, 1, 1, 0, 0, 1, 0, 1, 0, 1, 0, 1, 1, 1, 1, 1, 0, 1,\n",
              "       1, 0, 1, 0, 1, 1, 0, 1, 1, 1, 1, 1, 1, 0, 1, 0, 1, 1, 0, 1, 1, 1,\n",
              "       1, 0, 1, 1, 1, 1, 0, 1, 1, 1, 1, 1, 0, 1, 1, 1, 0, 1, 0, 0, 1, 0,\n",
              "       0, 0, 1, 0, 0, 1, 1, 0, 0, 1, 1, 0, 1, 1, 1, 1, 0, 1, 1, 1, 0, 1,\n",
              "       0, 0, 1, 0, 1, 1, 1, 0, 1, 1, 1, 0, 1, 0, 1, 1, 0, 1, 0, 1, 1, 1,\n",
              "       1, 0, 1, 1, 1, 0, 0, 1, 1, 1, 1, 1, 1, 1, 1, 0, 1, 1, 0, 0, 0, 1,\n",
              "       0, 1, 1, 1, 1, 1, 0, 1, 1, 1, 1, 1, 1, 1, 0, 0, 0, 1, 1, 1, 0, 1,\n",
              "       1, 1, 1, 1, 1, 1, 1, 1, 1, 0, 1, 0, 1, 1, 1, 1, 0, 1, 1, 1, 1, 1,\n",
              "       1, 1, 0, 1, 1, 0, 0, 1, 1, 0, 1, 0, 1, 1, 0, 1, 0, 1, 1, 0, 0, 1,\n",
              "       0, 0, 0, 1, 1, 1, 0, 1, 1, 1, 1, 1, 0, 1, 1, 1, 1, 1, 0, 1, 0, 1,\n",
              "       1, 1, 0, 1, 1, 1, 1, 1, 0, 1, 0, 1, 1, 1, 0, 1, 0, 1, 0, 1, 1, 1,\n",
              "       1, 1, 1])"
            ]
          },
          "metadata": {},
          "execution_count": 131
        }
      ]
    },
    {
      "cell_type": "code",
      "source": [
        "y_test"
      ],
      "metadata": {
        "colab": {
          "base_uri": "https://localhost:8080/"
        },
        "id": "9kTaPRqpZG2a",
        "outputId": "96d08f95-d297-4c93-c717-078e42fb269c"
      },
      "execution_count": null,
      "outputs": [
        {
          "output_type": "execute_result",
          "data": {
            "text/plain": [
              "array([1, 0, 0, 1, 0, 0, 1, 0, 1, 1, 0, 1, 1, 0, 1, 0, 1, 0, 1, 1, 1, 0,\n",
              "       1, 1, 1, 1, 0, 1, 1, 0, 1, 1, 1, 1, 1, 1, 1, 1, 0, 1, 0, 0, 0, 1,\n",
              "       0, 1, 0, 1, 1, 0, 0, 1, 0, 1, 1, 1, 0, 1, 1, 1, 1, 0, 1, 1, 1, 1,\n",
              "       0, 1, 1, 1, 0, 1, 1, 0, 1, 1, 1, 0, 1, 1, 0, 0, 0, 1, 1, 1, 0, 1,\n",
              "       1, 1, 1, 0, 1, 1, 1, 1, 1, 1, 1, 0, 1, 1, 0, 1, 1, 1, 0, 1, 0, 1,\n",
              "       1, 1, 1, 0, 0, 0, 1, 1, 1, 1, 0, 1, 1, 0, 0, 1, 0, 1, 0, 1, 0, 1,\n",
              "       1, 0, 1, 1, 1, 1, 0, 0, 1, 1, 1, 0, 1, 1, 1, 0, 1, 1, 1, 0, 1, 1,\n",
              "       1, 1, 1, 1, 1, 1, 1, 0, 0, 0, 0, 1, 0, 1, 1, 1, 1, 1, 1, 1, 0, 1,\n",
              "       1, 0, 1, 0, 1, 1, 1, 1, 1, 1, 1, 1, 1, 1, 1, 1, 1, 1, 0, 0, 1, 1,\n",
              "       1, 0, 1, 1, 1, 1, 0, 1, 1, 1, 1, 1, 0, 1, 1, 1, 0, 1, 1, 0, 1, 0,\n",
              "       0, 0, 1, 0, 0, 1, 1, 0, 0, 1, 1, 0, 1, 1, 1, 1, 1, 1, 0, 1, 0, 1,\n",
              "       0, 0, 1, 0, 1, 1, 1, 0, 1, 1, 1, 0, 1, 0, 1, 1, 0, 1, 0, 1, 1, 1,\n",
              "       1, 0, 1, 1, 1, 0, 0, 1, 1, 1, 1, 1, 1, 1, 1, 0, 1, 1, 1, 0, 0, 1,\n",
              "       0, 1, 1, 1, 0, 1, 0, 0, 1, 1, 1, 1, 1, 1, 1, 0, 0, 1, 1, 1, 0, 1,\n",
              "       1, 1, 1, 0, 1, 1, 1, 1, 1, 0, 1, 0, 1, 1, 1, 1, 0, 1, 1, 1, 1, 1,\n",
              "       0, 1, 0, 1, 1, 0, 0, 1, 1, 0, 1, 0, 1, 1, 0, 1, 0, 1, 1, 0, 0, 1,\n",
              "       0, 0, 0, 1, 1, 1, 0, 1, 1, 1, 1, 1, 0, 1, 1, 0, 1, 1, 0, 1, 0, 1,\n",
              "       1, 1, 0, 0, 1, 1, 1, 1, 1, 1, 0, 1, 1, 0, 0, 1, 0, 1, 0, 1, 1, 1,\n",
              "       1, 0, 1])"
            ]
          },
          "metadata": {},
          "execution_count": 132
        }
      ]
    },
    {
      "cell_type": "code",
      "source": [
        "print(classification_report(y_test, y_pred))"
      ],
      "metadata": {
        "colab": {
          "base_uri": "https://localhost:8080/"
        },
        "id": "JMinzaywZ3Gi",
        "outputId": "a804f42d-d73b-425a-937d-a3091066a9f6"
      },
      "execution_count": null,
      "outputs": [
        {
          "output_type": "stream",
          "name": "stdout",
          "text": [
            "              precision    recall  f1-score   support\n",
            "\n",
            "           0       0.84      0.84      0.84       127\n",
            "           1       0.93      0.92      0.92       272\n",
            "\n",
            "    accuracy                           0.90       399\n",
            "   macro avg       0.88      0.88      0.88       399\n",
            "weighted avg       0.90      0.90      0.90       399\n",
            "\n"
          ]
        }
      ]
    },
    {
      "cell_type": "code",
      "source": [
        "from sklearn.metrics import precision_recall_fscore_support as score\n",
        "\n",
        "precision, recall, fscore, support = score(y_test, y_pred, average = 'binary')\n",
        "\n",
        "print('precision: {}'.format(precision))\n",
        "print('recall: {}'.format(recall))\n",
        "print('fscore: {}'.format(fscore))\n",
        "print('support: {}'.format(support))"
      ],
      "metadata": {
        "colab": {
          "base_uri": "https://localhost:8080/"
        },
        "id": "lL_N2RjXZ9tp",
        "outputId": "c1ace29f-32fa-430e-9d83-6cd68ebdfbb2"
      },
      "execution_count": null,
      "outputs": [
        {
          "output_type": "stream",
          "name": "stdout",
          "text": [
            "precision: 0.9261992619926199\n",
            "recall: 0.9227941176470589\n",
            "fscore: 0.9244935543278084\n",
            "support: None\n"
          ]
        }
      ]
    },
    {
      "cell_type": "code",
      "execution_count": null,
      "metadata": {
        "id": "QkxWRKQ-zSPH"
      },
      "outputs": [],
      "source": [
        "from sklearn.metrics import roc_curve\n",
        "from sklearn.metrics import auc\n",
        "y_pred_keras = model4.predict([X_test_text])\n",
        "fpr_keras, tpr_keras, thresholds_keras = roc_curve(Y_test, y_pred_keras)\n",
        "auc_keras = auc(fpr_keras, tpr_keras)"
      ]
    },
    {
      "cell_type": "code",
      "execution_count": null,
      "metadata": {
        "colab": {
          "base_uri": "https://localhost:8080/"
        },
        "id": "N2tATLOFzUM5",
        "outputId": "a1120f88-f0c6-4753-e959-97cbf06c8efe"
      },
      "outputs": [
        {
          "output_type": "stream",
          "name": "stdout",
          "text": [
            "              precision    recall  f1-score   support\n",
            "\n",
            "           0       0.79      0.71      0.75        62\n",
            "           1       0.88      0.91      0.89       138\n",
            "\n",
            "    accuracy                           0.85       200\n",
            "   macro avg       0.83      0.81      0.82       200\n",
            "weighted avg       0.85      0.85      0.85       200\n",
            "\n"
          ]
        }
      ],
      "source": [
        "from sklearn.metrics import classification_report\n",
        "\n",
        "y_pred_bool = y_pred_keras.round()\n",
        "\n",
        "print(classification_report(Y_test, y_pred_bool))"
      ]
    },
    {
      "cell_type": "code",
      "execution_count": null,
      "metadata": {
        "colab": {
          "base_uri": "https://localhost:8080/"
        },
        "id": "uGZQ1j5DzWom",
        "outputId": "6b3f90ff-6160-4738-eaff-8c8d5aa3c825"
      },
      "outputs": [
        {
          "output_type": "stream",
          "name": "stdout",
          "text": [
            "precision: 0.875\n",
            "recall: 0.9130434782608695\n",
            "fscore: 0.8936170212765957\n",
            "support: None\n"
          ]
        }
      ],
      "source": [
        "from sklearn.metrics import precision_recall_fscore_support as score\n",
        "\n",
        "precision, recall, fscore, support = score(Y_test, y_pred_bool, average = 'binary')\n",
        "\n",
        "print('precision: {}'.format(precision))\n",
        "print('recall: {}'.format(recall))\n",
        "print('fscore: {}'.format(fscore))\n",
        "print('support: {}'.format(support))"
      ]
    },
    {
      "cell_type": "code",
      "execution_count": null,
      "metadata": {
        "id": "8IwsEKI6OXsg",
        "colab": {
          "base_uri": "https://localhost:8080/",
          "height": 527
        },
        "outputId": "ab223492-f447-4bcf-f1d4-1f01174d75f6"
      },
      "outputs": [
        {
          "output_type": "error",
          "ename": "KeyError",
          "evalue": "ignored",
          "traceback": [
            "\u001b[0;31m---------------------------------------------------------------------------\u001b[0m",
            "\u001b[0;31mKeyError\u001b[0m                                  Traceback (most recent call last)",
            "\u001b[0;32m/usr/local/lib/python3.7/dist-packages/pandas/core/indexes/base.py\u001b[0m in \u001b[0;36mget_loc\u001b[0;34m(self, key, method, tolerance)\u001b[0m\n\u001b[1;32m   3360\u001b[0m             \u001b[0;32mtry\u001b[0m\u001b[0;34m:\u001b[0m\u001b[0;34m\u001b[0m\u001b[0;34m\u001b[0m\u001b[0m\n\u001b[0;32m-> 3361\u001b[0;31m                 \u001b[0;32mreturn\u001b[0m \u001b[0mself\u001b[0m\u001b[0;34m.\u001b[0m\u001b[0m_engine\u001b[0m\u001b[0;34m.\u001b[0m\u001b[0mget_loc\u001b[0m\u001b[0;34m(\u001b[0m\u001b[0mcasted_key\u001b[0m\u001b[0;34m)\u001b[0m\u001b[0;34m\u001b[0m\u001b[0;34m\u001b[0m\u001b[0m\n\u001b[0m\u001b[1;32m   3362\u001b[0m             \u001b[0;32mexcept\u001b[0m \u001b[0mKeyError\u001b[0m \u001b[0;32mas\u001b[0m \u001b[0merr\u001b[0m\u001b[0;34m:\u001b[0m\u001b[0;34m\u001b[0m\u001b[0;34m\u001b[0m\u001b[0m\n",
            "\u001b[0;32m/usr/local/lib/python3.7/dist-packages/pandas/_libs/index.pyx\u001b[0m in \u001b[0;36mpandas._libs.index.IndexEngine.get_loc\u001b[0;34m()\u001b[0m\n",
            "\u001b[0;32m/usr/local/lib/python3.7/dist-packages/pandas/_libs/index.pyx\u001b[0m in \u001b[0;36mpandas._libs.index.IndexEngine.get_loc\u001b[0;34m()\u001b[0m\n",
            "\u001b[0;32mpandas/_libs/hashtable_class_helper.pxi\u001b[0m in \u001b[0;36mpandas._libs.hashtable.PyObjectHashTable.get_item\u001b[0;34m()\u001b[0m\n",
            "\u001b[0;32mpandas/_libs/hashtable_class_helper.pxi\u001b[0m in \u001b[0;36mpandas._libs.hashtable.PyObjectHashTable.get_item\u001b[0;34m()\u001b[0m\n",
            "\u001b[0;31mKeyError\u001b[0m: 'reliability'",
            "\nThe above exception was the direct cause of the following exception:\n",
            "\u001b[0;31mKeyError\u001b[0m                                  Traceback (most recent call last)",
            "\u001b[0;32m<ipython-input-40-b880fddce1ec>\u001b[0m in \u001b[0;36m<module>\u001b[0;34m()\u001b[0m\n\u001b[1;32m      1\u001b[0m \u001b[0mchi\u001b[0m \u001b[0;34m=\u001b[0m \u001b[0mmerged_df\u001b[0m\u001b[0;34m.\u001b[0m\u001b[0mdrop\u001b[0m\u001b[0;34m(\u001b[0m\u001b[0mmerged_df\u001b[0m\u001b[0;34m.\u001b[0m\u001b[0mcolumns\u001b[0m\u001b[0;34m[\u001b[0m\u001b[0;34m[\u001b[0m\u001b[0;36m0\u001b[0m\u001b[0;34m,\u001b[0m\u001b[0;36m2\u001b[0m\u001b[0;34m,\u001b[0m\u001b[0;36m3\u001b[0m\u001b[0;34m]\u001b[0m\u001b[0;34m]\u001b[0m\u001b[0;34m,\u001b[0m \u001b[0maxis\u001b[0m\u001b[0;34m=\u001b[0m\u001b[0;36m1\u001b[0m\u001b[0;34m)\u001b[0m\u001b[0;34m\u001b[0m\u001b[0;34m\u001b[0m\u001b[0m\n\u001b[0;32m----> 2\u001b[0;31m \u001b[0mrel\u001b[0m \u001b[0;34m=\u001b[0m \u001b[0mchi\u001b[0m\u001b[0;34m.\u001b[0m\u001b[0mloc\u001b[0m\u001b[0;34m[\u001b[0m\u001b[0mchi\u001b[0m\u001b[0;34m[\u001b[0m\u001b[0;34m'reliability'\u001b[0m\u001b[0;34m]\u001b[0m\u001b[0;34m.\u001b[0m\u001b[0mastype\u001b[0m\u001b[0;34m(\u001b[0m\u001b[0mint\u001b[0m\u001b[0;34m)\u001b[0m \u001b[0;34m==\u001b[0m \u001b[0;36m1\u001b[0m\u001b[0;34m]\u001b[0m\u001b[0;34m\u001b[0m\u001b[0;34m\u001b[0m\u001b[0m\n\u001b[0m\u001b[1;32m      3\u001b[0m \u001b[0mrel\u001b[0m \u001b[0;34m=\u001b[0m \u001b[0mrel\u001b[0m\u001b[0;34m.\u001b[0m\u001b[0mdrop\u001b[0m\u001b[0;34m(\u001b[0m\u001b[0mrel\u001b[0m\u001b[0;34m.\u001b[0m\u001b[0mcolumns\u001b[0m\u001b[0;34m[\u001b[0m\u001b[0;36m0\u001b[0m\u001b[0;34m]\u001b[0m\u001b[0;34m,\u001b[0m \u001b[0maxis\u001b[0m\u001b[0;34m=\u001b[0m\u001b[0;36m1\u001b[0m\u001b[0;34m)\u001b[0m\u001b[0;34m\u001b[0m\u001b[0;34m\u001b[0m\u001b[0m\n\u001b[1;32m      4\u001b[0m \u001b[0munrel\u001b[0m \u001b[0;34m=\u001b[0m \u001b[0mchi\u001b[0m\u001b[0;34m.\u001b[0m\u001b[0mloc\u001b[0m\u001b[0;34m[\u001b[0m\u001b[0mchi\u001b[0m\u001b[0;34m[\u001b[0m\u001b[0;34m'reliability'\u001b[0m\u001b[0;34m]\u001b[0m\u001b[0;34m.\u001b[0m\u001b[0mastype\u001b[0m\u001b[0;34m(\u001b[0m\u001b[0mint\u001b[0m\u001b[0;34m)\u001b[0m \u001b[0;34m==\u001b[0m \u001b[0;36m0\u001b[0m\u001b[0;34m]\u001b[0m\u001b[0;34m\u001b[0m\u001b[0;34m\u001b[0m\u001b[0m\n\u001b[1;32m      5\u001b[0m \u001b[0munrel\u001b[0m \u001b[0;34m=\u001b[0m \u001b[0munrel\u001b[0m\u001b[0;34m.\u001b[0m\u001b[0mdrop\u001b[0m\u001b[0;34m(\u001b[0m\u001b[0munrel\u001b[0m\u001b[0;34m.\u001b[0m\u001b[0mcolumns\u001b[0m\u001b[0;34m[\u001b[0m\u001b[0;36m0\u001b[0m\u001b[0;34m]\u001b[0m\u001b[0;34m,\u001b[0m \u001b[0maxis\u001b[0m\u001b[0;34m=\u001b[0m\u001b[0;36m1\u001b[0m\u001b[0;34m)\u001b[0m\u001b[0;34m\u001b[0m\u001b[0;34m\u001b[0m\u001b[0m\n",
            "\u001b[0;32m/usr/local/lib/python3.7/dist-packages/pandas/core/frame.py\u001b[0m in \u001b[0;36m__getitem__\u001b[0;34m(self, key)\u001b[0m\n\u001b[1;32m   3456\u001b[0m             \u001b[0;32mif\u001b[0m \u001b[0mself\u001b[0m\u001b[0;34m.\u001b[0m\u001b[0mcolumns\u001b[0m\u001b[0;34m.\u001b[0m\u001b[0mnlevels\u001b[0m \u001b[0;34m>\u001b[0m \u001b[0;36m1\u001b[0m\u001b[0;34m:\u001b[0m\u001b[0;34m\u001b[0m\u001b[0;34m\u001b[0m\u001b[0m\n\u001b[1;32m   3457\u001b[0m                 \u001b[0;32mreturn\u001b[0m \u001b[0mself\u001b[0m\u001b[0;34m.\u001b[0m\u001b[0m_getitem_multilevel\u001b[0m\u001b[0;34m(\u001b[0m\u001b[0mkey\u001b[0m\u001b[0;34m)\u001b[0m\u001b[0;34m\u001b[0m\u001b[0;34m\u001b[0m\u001b[0m\n\u001b[0;32m-> 3458\u001b[0;31m             \u001b[0mindexer\u001b[0m \u001b[0;34m=\u001b[0m \u001b[0mself\u001b[0m\u001b[0;34m.\u001b[0m\u001b[0mcolumns\u001b[0m\u001b[0;34m.\u001b[0m\u001b[0mget_loc\u001b[0m\u001b[0;34m(\u001b[0m\u001b[0mkey\u001b[0m\u001b[0;34m)\u001b[0m\u001b[0;34m\u001b[0m\u001b[0;34m\u001b[0m\u001b[0m\n\u001b[0m\u001b[1;32m   3459\u001b[0m             \u001b[0;32mif\u001b[0m \u001b[0mis_integer\u001b[0m\u001b[0;34m(\u001b[0m\u001b[0mindexer\u001b[0m\u001b[0;34m)\u001b[0m\u001b[0;34m:\u001b[0m\u001b[0;34m\u001b[0m\u001b[0;34m\u001b[0m\u001b[0m\n\u001b[1;32m   3460\u001b[0m                 \u001b[0mindexer\u001b[0m \u001b[0;34m=\u001b[0m \u001b[0;34m[\u001b[0m\u001b[0mindexer\u001b[0m\u001b[0;34m]\u001b[0m\u001b[0;34m\u001b[0m\u001b[0;34m\u001b[0m\u001b[0m\n",
            "\u001b[0;32m/usr/local/lib/python3.7/dist-packages/pandas/core/indexes/base.py\u001b[0m in \u001b[0;36mget_loc\u001b[0;34m(self, key, method, tolerance)\u001b[0m\n\u001b[1;32m   3361\u001b[0m                 \u001b[0;32mreturn\u001b[0m \u001b[0mself\u001b[0m\u001b[0;34m.\u001b[0m\u001b[0m_engine\u001b[0m\u001b[0;34m.\u001b[0m\u001b[0mget_loc\u001b[0m\u001b[0;34m(\u001b[0m\u001b[0mcasted_key\u001b[0m\u001b[0;34m)\u001b[0m\u001b[0;34m\u001b[0m\u001b[0;34m\u001b[0m\u001b[0m\n\u001b[1;32m   3362\u001b[0m             \u001b[0;32mexcept\u001b[0m \u001b[0mKeyError\u001b[0m \u001b[0;32mas\u001b[0m \u001b[0merr\u001b[0m\u001b[0;34m:\u001b[0m\u001b[0;34m\u001b[0m\u001b[0;34m\u001b[0m\u001b[0m\n\u001b[0;32m-> 3363\u001b[0;31m                 \u001b[0;32mraise\u001b[0m \u001b[0mKeyError\u001b[0m\u001b[0;34m(\u001b[0m\u001b[0mkey\u001b[0m\u001b[0;34m)\u001b[0m \u001b[0;32mfrom\u001b[0m \u001b[0merr\u001b[0m\u001b[0;34m\u001b[0m\u001b[0;34m\u001b[0m\u001b[0m\n\u001b[0m\u001b[1;32m   3364\u001b[0m \u001b[0;34m\u001b[0m\u001b[0m\n\u001b[1;32m   3365\u001b[0m         \u001b[0;32mif\u001b[0m \u001b[0mis_scalar\u001b[0m\u001b[0;34m(\u001b[0m\u001b[0mkey\u001b[0m\u001b[0;34m)\u001b[0m \u001b[0;32mand\u001b[0m \u001b[0misna\u001b[0m\u001b[0;34m(\u001b[0m\u001b[0mkey\u001b[0m\u001b[0;34m)\u001b[0m \u001b[0;32mand\u001b[0m \u001b[0;32mnot\u001b[0m \u001b[0mself\u001b[0m\u001b[0;34m.\u001b[0m\u001b[0mhasnans\u001b[0m\u001b[0;34m:\u001b[0m\u001b[0;34m\u001b[0m\u001b[0;34m\u001b[0m\u001b[0m\n",
            "\u001b[0;31mKeyError\u001b[0m: 'reliability'"
          ]
        }
      ],
      "source": [
        "chi = merged_df.drop(merged_df.columns[[0,2,3]], axis=1) \n",
        "rel = chi.loc[chi['reliability'].astype(int) == 1]\n",
        "rel = rel.drop(rel.columns[0], axis=1) \n",
        "unrel = chi.loc[chi['reliability'].astype(int) == 0]\n",
        "unrel = unrel.drop(unrel.columns[0], axis=1) \n"
      ]
    },
    {
      "cell_type": "code",
      "execution_count": null,
      "metadata": {
        "id": "PlM5lZwbrk8-"
      },
      "outputs": [],
      "source": [
        "from scipy import stats\n",
        "t_results = []\n",
        "for i in rel.columns:\n",
        "  ttest = stats.ttest_ind(rel[i], unrel[i])\n",
        "  t_results.append(ttest)\n",
        "t_df = pd.DataFrame(t_results)\n",
        "t_df.index = rel.columns"
      ]
    },
    {
      "cell_type": "code",
      "source": [
        "rel"
      ],
      "metadata": {
        "id": "jZ1a7lx0Mb4K"
      },
      "execution_count": null,
      "outputs": []
    },
    {
      "cell_type": "code",
      "source": [
        "t_df['rel_mean'] = float()\n",
        "t_df['unrel_mean'] = float()\n",
        "t_df['rel_stdev'] = float()\n",
        "t_df['unrel_stdev'] = float()\n",
        "t_df['rel_article_count'] = float()\n",
        "t_df['unrel_article_count'] = float()\n",
        "\n",
        "for col in rel.columns:\n",
        "    t_df.at[col, 'rel_mean'] = rel[col].mean()\n",
        "    t_df.at[col, 'unrel_mean'] = unrel[col].mean()\n",
        "    t_df.at[col, 'rel_stdev'] = rel[col].std()\n",
        "    t_df.at[col, 'unrel_stdev'] = unrel[col].std()\n",
        "    t_df.at[col, 'rel_article_count'] = len(rel[col])\n",
        "    t_df.at[col, 'unrel_article_count'] = len(unrel[col])\n",
        "    "
      ],
      "metadata": {
        "id": "spV3FigVL9BJ"
      },
      "execution_count": null,
      "outputs": []
    },
    {
      "cell_type": "code",
      "execution_count": null,
      "metadata": {
        "id": "TTUyY_ss2HHo"
      },
      "outputs": [],
      "source": [
        "t_df"
      ]
    },
    {
      "cell_type": "code",
      "source": [
        "t_df.to_csv('/content/gdrive/Shareddrives/National Undergraduate Big Data Challenge 2021/NEWSTUFF_March2022/statistics.csv')"
      ],
      "metadata": {
        "id": "-UeLO-bBPd9M"
      },
      "execution_count": null,
      "outputs": []
    },
    {
      "cell_type": "code",
      "execution_count": null,
      "metadata": {
        "id": "d46kf4aHWP_r"
      },
      "outputs": [],
      "source": [
        "rel.pos.mean()"
      ]
    }
  ],
  "metadata": {
    "accelerator": "GPU",
    "colab": {
      "collapsed_sections": [],
      "name": "Copy of ensemble Multiinputmodel2022Mar23.ipynb",
      "provenance": []
    },
    "kernelspec": {
      "display_name": "Python 3",
      "name": "python3"
    },
    "language_info": {
      "name": "python"
    }
  },
  "nbformat": 4,
  "nbformat_minor": 0
}